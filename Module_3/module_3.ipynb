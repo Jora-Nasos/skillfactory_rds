{
 "cells": [
  {
   "cell_type": "markdown",
   "metadata": {},
   "source": [
    "# Загрузка Pandas и очистка данных"
   ]
  },
  {
   "cell_type": "code",
   "execution_count": 57,
   "metadata": {},
   "outputs": [],
   "source": [
    "import pandas as pd\n",
    "import re\n",
    "import datetime\n",
    "import numpy as np\n",
    "import matplotlib.pyplot as plt\n",
    "import seaborn as sns \n"
   ]
  },
  {
   "cell_type": "code",
   "execution_count": 58,
   "metadata": {},
   "outputs": [],
   "source": [
    "def fdate1(lt):\n",
    "    pattern=re.compile('\\d\\d[/]\\d\\d[/]\\d\\d\\d\\d')\n",
    "    dates=[]\n",
    "    for item in lt:\n",
    "        item=item.strip()\n",
    "        if pattern.search(item) is not None:\n",
    "            item = pd.to_datetime(item,errors='ignore')\n",
    "            dates.append(item)\n",
    "    if dates !=[]:\n",
    "        return dates\n",
    "    else:\n",
    "        return None\n",
    "    \n",
    "def fill_price (s):\n",
    "    if s == '$':\n",
    "        return 1\n",
    "    elif s == '$$ - $$$':\n",
    "        return 2\n",
    "    elif s == '$$$$':\n",
    "        return 3\n",
    "    \n",
    "def outliers_iqr(ys):\n",
    "    quartile_1, quartile_3 = np.percentile(ys, [25, 75])\n",
    "    iqr = quartile_3 - quartile_1\n",
    "    lower_bound = quartile_1 - (iqr * 10.5)\n",
    "    upper_bound = quartile_3 + (iqr * 10.5)\n",
    "    return [lower_bound,upper_bound]\n",
    "\n",
    "def find_item_single(cell):\n",
    "    if item == cell:\n",
    "        return item\n",
    "    return 0\n"
   ]
  },
  {
   "cell_type": "markdown",
   "metadata": {},
   "source": [
    "# Предобработка данных"
   ]
  },
  {
   "cell_type": "code",
   "execution_count": 59,
   "metadata": {},
   "outputs": [],
   "source": [
    "data = pd.read_csv('main_task.csv')\n",
    "\n",
    "\n",
    "## Приводим стиль кухни к списку\n",
    "data['Cuisine Style'] = data['Cuisine Style'][data['Cuisine Style'].isna()==False].\\\n",
    "apply(lambda s:s[1:-1].replace(\"'\",'').replace(\" \",'').split(','))\n",
    "## Новый показатель - \"Количество представленных кухонь\".\n",
    "data['Cuisine Style_num'] = data['Cuisine Style'][data['Cuisine Style'].isna() == False].apply(lambda l:len(l))\n",
    "# Пустоты в кухнях заменяем на самую частую в этом городе\n",
    "for city in data.City.unique():\n",
    "    city_cuis_m = (data[data.City == city].explode('Cuisine Style')['Cuisine Style'].value_counts().index[0])\n",
    "    data.loc[data.City == city,['Cuisine Style']] = data.loc[data.City == city,['Cuisine Style']].\\\n",
    "    fillna(city_cuis_m)    \n",
    "# Путоты в количествах кухонь заполняем средним по городу\n",
    "for city in data.City.unique():\n",
    "    city_cuis_len_m = round(data[(data.City == city)&(data.City.isna() == False)]['Cuisine Style_num'].mean(),2)\n",
    "    data.loc[data.City == city,['Cuisine Style_num']] = data.loc[data.City == city,['Cuisine Style_num']].\\\n",
    "    fillna(city_cuis_len_m)\n",
    "data['Cuisine Style_num']\n",
    "\n",
    "    \n",
    "## Пустоты в количестве отзывов заменяем на среднее по городам\n",
    "for city in data['City'].unique():\n",
    "    data.loc[data.City == city, ['Number of Reviews']] = data.loc[data.City == city, ['Number of Reviews']].\\\n",
    "    fillna(round(data.loc[data.City == city, ['Number of Reviews']].median(),2))\n",
    "    \n",
    "    \n",
    "## Новый показатель - Количество дней между отзывами. \n",
    "data['Reviews'] = data['Reviews'].apply(lambda s:s[1:-1].replace(\"'\",'').replace(\"[\",'').replace(\"]\",'').\\\n",
    "                                        strip().split(','))\n",
    "data['Reviews'] = data['Reviews'].apply(fdate1)\n",
    "data['Reviews_num']=data['Reviews'][data['Reviews'].isna()==False].apply(lambda l:len(l))\n",
    "data['Review_1'] = data[data['Reviews_num'] == 2]['Reviews'].apply(lambda l:l[0])\n",
    "data['Review_2'] = data[data['Reviews_num'] == 2]['Reviews'].apply(lambda l:l[1])\n",
    "data['Reviews_dist'] = data['Reviews'][data['Reviews_num'] == 2].apply(lambda l:(l[0]-l[1]).days)\n",
    "med_1 = data['Reviews'][data['Reviews_num'] == 2].apply(lambda l:(l[0]-l[1]).days).median()\n",
    "# Определяем выбросы по IQR и заменяем на медиану\n",
    "lb_r,ub_r = outliers_iqr(data['Reviews_dist'][data['Reviews_dist'].isna() == False])\n",
    "data['Reviews_dist'] = data['Reviews_dist'][data['Reviews_dist'].isna() == False]\\\n",
    "                                           [(data['Reviews_dist']< ub_r)&(data['Reviews_dist']> lb_r)]\n",
    "data['Reviews_dist'] = data['Reviews_dist'].fillna(med_1)\n",
    "\n",
    "\n",
    "## Новый показатель - \"Количество дней от последнего отзыва до сегодя\".\n",
    "now = datetime.datetime.now()\n",
    "data['Review_dist_to_now'] = data['Review_1'][data['Review_1'].isna()==False].apply(lambda l:(now-l).days)\n",
    "# Определяем выбросы по IQR и заменяем на медиану\n",
    "lb_rd,ub_rd = outliers_iqr(data['Review_dist_to_now'][data['Review_dist_to_now'].isna() == False])\n",
    "data['Review_dist_to_now'] = data['Review_dist_to_now'][data['Review_dist_to_now'].isna()==False]\\\n",
    "[(data['Review_dist_to_now']> lb_rd) & (data['Review_dist_to_now'] < ub_rd)]\n",
    "med = data['Review_1'][data['Review_1'].isna()==False].apply(lambda l:(now-l).days).median()\n",
    "data['Review_dist_to_now'] = data['Review_dist_to_now'].fillna(med)\n",
    "\n",
    "\n",
    "# Выкидываем выбросы из Ranking рассчитанные по IQR и заменяем пустоты на среднее\n",
    "mean_ranking = data['Ranking'].mean()\n",
    "ub_rank = outliers_iqr(data['Ranking'])[1]\n",
    "data['Ranking'] = data['Ranking'][data['Ranking']<ub_rank]\n",
    "data['Ranking'] = data['Ranking'].fillna(mean_ranking)\n",
    "\n",
    "\n",
    "## Новый показатель \"Отношение Ranking к количеству ресторанов в городе\"\n",
    "number_of_restaurants  = data.City.value_counts()\n",
    "data['n_restaurants_per_city'] = data.City.apply(lambda x: number_of_restaurants.loc[x])\n",
    "data['ranking_per_n_r_city'] = data.Ranking / data.n_restaurants_per_city\n",
    "## Новый показатель \"Отношение Ranking к количеству ресторанов в городе помноженное на Number of Reviews\"\n",
    "data['ranking_per_n_r_city_to_reviews'] = data['ranking_per_n_r_city']*data['Number of Reviews']\n",
    "data['ranking_per_n_r_city_to_reviews']\n",
    "\n",
    "## Новый показатель \"Отношение Ranking к количеству кухонь\"\n",
    "data['Rank_to_num_cuis']=data['Ranking']/data['Cuisine Style_num']\n",
    "\n",
    "## Новый показатель \"Отношение Ranking к Number of Reviews\"\n",
    "data['Rank_to_num_rev']=data['Ranking']/data['Number of Reviews']\n",
    "\n",
    "## Новый показатель \"Отношение n_restaurants_per_city к Number of Reviews\"\n",
    "data['n_res_to_num_rev']=data['n_restaurants_per_city']/data['Number of Reviews']\n",
    "\n",
    "## Новый показатель \"Отношение n_restaurants_per_city к Cuisine Style_num\"\n",
    "data['Rank_to_cus_num']=data['n_restaurants_per_city']/data['Cuisine Style_num']\n",
    "\n",
    "## Новый показатель \"Отношение Number of Reviews к Review_dist_to_now\"\n",
    "data['test_2'] = data['Number of Reviews']/data['Review_dist_to_now']\n"
   ]
  },
  {
   "cell_type": "code",
   "execution_count": 60,
   "metadata": {},
   "outputs": [
    {
     "data": {
      "text/plain": [
       "<matplotlib.axes._subplots.AxesSubplot at 0x1d1962b2280>"
      ]
     },
     "execution_count": 60,
     "metadata": {},
     "output_type": "execute_result"
    },
    {
     "data": {
      "image/png": "[encoded data removed]",
      "text/plain": [
       "<Figure size 1080x720 with 2 Axes>"
      ]
     },
     "metadata": {
      "needs_background": "light"
     },
     "output_type": "display_data"
    }
   ],
   "source": [
    "data_corr = data.drop(['Restaurant_id','City','Cuisine Style','Reviews','URL_TA','ID_TA',\\\n",
    "                    'Reviews_num','Review_1','Review_2','Price Range'],axis=1)\n",
    "plt.rcParams['figure.figsize'] = (15,10)\n",
    "sns.heatmap(data_corr.corr())"
   ]
  },
  {
   "cell_type": "code",
   "execution_count": 61,
   "metadata": {},
   "outputs": [],
   "source": [
    "## Новый показатель - \"Уровень цен, количественный\". Пустоты заменяем на медиану\n",
    "data['Price Range'] = data['Price Range'][data['Price Range'].isna() == False].apply(fill_price)\n",
    "data['Price Range'] = data['Price Range'].fillna(data['Price Range'].value_counts().index[0])\n",
    "for item in data['Price Range'].unique():\n",
    "    data[item] = data['Price Range'].apply(find_item_single)\n",
    "\n",
    "## Города переводим в dummy\n",
    "dummy_City = pd.get_dummies(data.City, dummy_na = True)\n",
    "data = pd.concat([data,dummy_City],axis=1)"
   ]
  },
  {
   "cell_type": "code",
   "execution_count": 62,
   "metadata": {},
   "outputs": [
    {
     "data": {
      "text/html": [
       "<div>\n",
       "<style scoped>\n",
       "    .dataframe tbody tr th:only-of-type {\n",
       "        vertical-align: middle;\n",
       "    }\n",
       "\n",
       "    .dataframe tbody tr th {\n",
       "        vertical-align: top;\n",
       "    }\n",
       "\n",
       "    .dataframe thead th {\n",
       "        text-align: right;\n",
       "    }\n",
       "</style>\n",
       "<table border=\"1\" class=\"dataframe\">\n",
       "  <thead>\n",
       "    <tr style=\"text-align: right;\">\n",
       "      <th></th>\n",
       "      <th>Ranking</th>\n",
       "      <th>Rating</th>\n",
       "      <th>Number of Reviews</th>\n",
       "      <th>Cuisine Style_num</th>\n",
       "      <th>Reviews_dist</th>\n",
       "      <th>Review_dist_to_now</th>\n",
       "      <th>n_restaurants_per_city</th>\n",
       "      <th>ranking_per_n_r_city</th>\n",
       "      <th>ranking_per_n_r_city_to_reviews</th>\n",
       "      <th>Rank_to_num_cuis</th>\n",
       "      <th>...</th>\n",
       "      <th>Oporto</th>\n",
       "      <th>Oslo</th>\n",
       "      <th>Paris</th>\n",
       "      <th>Prague</th>\n",
       "      <th>Rome</th>\n",
       "      <th>Stockholm</th>\n",
       "      <th>Vienna</th>\n",
       "      <th>Warsaw</th>\n",
       "      <th>Zurich</th>\n",
       "      <th>NaN</th>\n",
       "    </tr>\n",
       "  </thead>\n",
       "  <tbody>\n",
       "    <tr>\n",
       "      <th>0</th>\n",
       "      <td>5570.0</td>\n",
       "      <td>3.5</td>\n",
       "      <td>194.0</td>\n",
       "      <td>3.00</td>\n",
       "      <td>41.0</td>\n",
       "      <td>1206.0</td>\n",
       "      <td>4897</td>\n",
       "      <td>1.137431</td>\n",
       "      <td>220.661630</td>\n",
       "      <td>1856.666667</td>\n",
       "      <td>...</td>\n",
       "      <td>0</td>\n",
       "      <td>0</td>\n",
       "      <td>1</td>\n",
       "      <td>0</td>\n",
       "      <td>0</td>\n",
       "      <td>0</td>\n",
       "      <td>0</td>\n",
       "      <td>0</td>\n",
       "      <td>0</td>\n",
       "      <td>0</td>\n",
       "    </tr>\n",
       "    <tr>\n",
       "      <th>1</th>\n",
       "      <td>1537.0</td>\n",
       "      <td>4.0</td>\n",
       "      <td>10.0</td>\n",
       "      <td>3.18</td>\n",
       "      <td>382.0</td>\n",
       "      <td>1384.0</td>\n",
       "      <td>820</td>\n",
       "      <td>1.874390</td>\n",
       "      <td>18.743902</td>\n",
       "      <td>483.333333</td>\n",
       "      <td>...</td>\n",
       "      <td>0</td>\n",
       "      <td>0</td>\n",
       "      <td>0</td>\n",
       "      <td>0</td>\n",
       "      <td>0</td>\n",
       "      <td>1</td>\n",
       "      <td>0</td>\n",
       "      <td>0</td>\n",
       "      <td>0</td>\n",
       "      <td>0</td>\n",
       "    </tr>\n",
       "    <tr>\n",
       "      <th>2</th>\n",
       "      <td>353.0</td>\n",
       "      <td>4.5</td>\n",
       "      <td>688.0</td>\n",
       "      <td>7.00</td>\n",
       "      <td>2.0</td>\n",
       "      <td>1198.0</td>\n",
       "      <td>5757</td>\n",
       "      <td>0.061317</td>\n",
       "      <td>42.185861</td>\n",
       "      <td>50.428571</td>\n",
       "      <td>...</td>\n",
       "      <td>0</td>\n",
       "      <td>0</td>\n",
       "      <td>0</td>\n",
       "      <td>0</td>\n",
       "      <td>0</td>\n",
       "      <td>0</td>\n",
       "      <td>0</td>\n",
       "      <td>0</td>\n",
       "      <td>0</td>\n",
       "      <td>0</td>\n",
       "    </tr>\n",
       "    <tr>\n",
       "      <th>3</th>\n",
       "      <td>3458.0</td>\n",
       "      <td>5.0</td>\n",
       "      <td>3.0</td>\n",
       "      <td>2.94</td>\n",
       "      <td>55.0</td>\n",
       "      <td>1295.0</td>\n",
       "      <td>2155</td>\n",
       "      <td>1.604640</td>\n",
       "      <td>4.813921</td>\n",
       "      <td>1176.190476</td>\n",
       "      <td>...</td>\n",
       "      <td>0</td>\n",
       "      <td>0</td>\n",
       "      <td>0</td>\n",
       "      <td>0</td>\n",
       "      <td>0</td>\n",
       "      <td>0</td>\n",
       "      <td>0</td>\n",
       "      <td>0</td>\n",
       "      <td>0</td>\n",
       "      <td>0</td>\n",
       "    </tr>\n",
       "    <tr>\n",
       "      <th>4</th>\n",
       "      <td>621.0</td>\n",
       "      <td>4.0</td>\n",
       "      <td>84.0</td>\n",
       "      <td>3.00</td>\n",
       "      <td>272.0</td>\n",
       "      <td>1249.0</td>\n",
       "      <td>893</td>\n",
       "      <td>0.695409</td>\n",
       "      <td>58.414334</td>\n",
       "      <td>207.000000</td>\n",
       "      <td>...</td>\n",
       "      <td>0</td>\n",
       "      <td>0</td>\n",
       "      <td>0</td>\n",
       "      <td>0</td>\n",
       "      <td>0</td>\n",
       "      <td>0</td>\n",
       "      <td>0</td>\n",
       "      <td>0</td>\n",
       "      <td>0</td>\n",
       "      <td>0</td>\n",
       "    </tr>\n",
       "  </tbody>\n",
       "</table>\n",
       "<p>5 rows × 49 columns</p>\n",
       "</div>"
      ],
      "text/plain": [
       "   Ranking  Rating  Number of Reviews  Cuisine Style_num  Reviews_dist  \\\n",
       "0   5570.0     3.5              194.0               3.00          41.0   \n",
       "1   1537.0     4.0               10.0               3.18         382.0   \n",
       "2    353.0     4.5              688.0               7.00           2.0   \n",
       "3   3458.0     5.0                3.0               2.94          55.0   \n",
       "4    621.0     4.0               84.0               3.00         272.0   \n",
       "\n",
       "   Review_dist_to_now  n_restaurants_per_city  ranking_per_n_r_city  \\\n",
       "0              1206.0                    4897              1.137431   \n",
       "1              1384.0                     820              1.874390   \n",
       "2              1198.0                    5757              0.061317   \n",
       "3              1295.0                    2155              1.604640   \n",
       "4              1249.0                     893              0.695409   \n",
       "\n",
       "   ranking_per_n_r_city_to_reviews  Rank_to_num_cuis  ...  Oporto  Oslo  \\\n",
       "0                       220.661630       1856.666667  ...       0     0   \n",
       "1                        18.743902        483.333333  ...       0     0   \n",
       "2                        42.185861         50.428571  ...       0     0   \n",
       "3                         4.813921       1176.190476  ...       0     0   \n",
       "4                        58.414334        207.000000  ...       0     0   \n",
       "\n",
       "   Paris  Prague  Rome  Stockholm  Vienna  Warsaw  Zurich  NaN  \n",
       "0      1       0     0          0       0       0       0    0  \n",
       "1      0       0     0          1       0       0       0    0  \n",
       "2      0       0     0          0       0       0       0    0  \n",
       "3      0       0     0          0       0       0       0    0  \n",
       "4      0       0     0          0       0       0       0    0  \n",
       "\n",
       "[5 rows x 49 columns]"
      ]
     },
     "execution_count": 62,
     "metadata": {},
     "output_type": "execute_result"
    }
   ],
   "source": [
    "# Удаляем нечисловые признаки\n",
    "data_1 = data.drop(['Restaurant_id','City','Cuisine Style','Reviews','URL_TA','ID_TA',\\\n",
    "                    'Reviews_num','Review_1','Review_2','Price Range'],axis=1)\n",
    "data_1.head(5)"
   ]
  },
  {
   "cell_type": "markdown",
   "metadata": {},
   "source": [
    "# Разбиваем датафрейм на части, необходимые для обучения и тестирования модели"
   ]
  },
  {
   "cell_type": "code",
   "execution_count": 63,
   "metadata": {},
   "outputs": [],
   "source": [
    "# Х - данные с информацией о ресторанах, у - целевая переменная (рейтинги ресторанов)\n",
    "X = data_1.drop(['Rating'], axis = 1)\n",
    "y = data_1['Rating']"
   ]
  },
  {
   "cell_type": "code",
   "execution_count": 7,
   "metadata": {},
   "outputs": [],
   "source": [
    "# Загружаем специальный инструмент для разбивки:\n",
    "from sklearn.model_selection import train_test_split"
   ]
  },
  {
   "cell_type": "code",
   "execution_count": 64,
   "metadata": {},
   "outputs": [],
   "source": [
    "# Наборы данных с меткой \"train\" будут использоваться для обучения модели, \"test\" - для тестирования.\n",
    "# Для тестирования мы будем использовать 25% от исходного датасета.\n",
    "X_train, X_test, y_train, y_test = train_test_split(X, y, test_size=0.25)"
   ]
  },
  {
   "cell_type": "markdown",
   "metadata": {},
   "source": [
    "# Создаём, обучаем и тестируем модель"
   ]
  },
  {
   "cell_type": "code",
   "execution_count": 9,
   "metadata": {},
   "outputs": [],
   "source": [
    "# Импортируем необходимые библиотеки:\n",
    "from sklearn.ensemble import RandomForestRegressor # инструмент для создания и обучения модели\n",
    "from sklearn import metrics # инструменты для оценки точности модели"
   ]
  },
  {
   "cell_type": "code",
   "execution_count": 65,
   "metadata": {},
   "outputs": [],
   "source": [
    "# Создаём модель\n",
    "regr = RandomForestRegressor(n_estimators=100)\n",
    "\n",
    "# Обучаем модель на тестовом наборе данных\n",
    "regr.fit(X_train, y_train)\n",
    "\n",
    "# Используем обученную модель для предсказания рейтинга ресторанов в тестовой выборке.\n",
    "# Предсказанные значения записываем в переменную y_pred\n",
    "y_pred = regr.predict(X_test)"
   ]
  },
  {
   "cell_type": "code",
   "execution_count": 66,
   "metadata": {},
   "outputs": [
    {
     "name": "stdout",
     "output_type": "stream",
     "text": [
      "MAE: 0.2059125\n"
     ]
    }
   ],
   "source": [
    "# Сравниваем предсказанные значения (y_pred) с реальными (y_test), и смотрим насколько они в среднем отличаются\n",
    "# Метрика называется Mean Absolute Error (MAE) и показывает среднее отклонение предсказанных значений от фактических.\n",
    "print('MAE:', metrics.mean_absolute_error(y_test, y_pred))"
   ]
  },
  {
   "cell_type": "code",
   "execution_count": 67,
   "metadata": {},
   "outputs": [
    {
     "data": {
      "text/plain": [
       "<matplotlib.axes._subplots.AxesSubplot at 0x1d197101640>"
      ]
     },
     "execution_count": 67,
     "metadata": {},
     "output_type": "execute_result"
    },
    {
     "data": {
      "image/png": "[encoded data removed]",
      "text/plain": [
       "<Figure size 720x720 with 1 Axes>"
      ]
     },
     "metadata": {
      "needs_background": "light"
     },
     "output_type": "display_data"
    }
   ],
   "source": [
    "plt.rcParams['figure.figsize'] = (10,10)\n",
    "feat_importances = pd.Series(regr.feature_importances_, index=X.columns)\n",
    "feat_importances.nlargest(60).plot(kind='barh')"
   ]
  },
  {
   "cell_type": "code",
   "execution_count": null,
   "metadata": {},
   "outputs": [],
   "source": []
  }
 ],
 "metadata": {
  "kernelspec": {
   "display_name": "Python 3",
   "language": "python",
   "name": "python3"
  },
  "language_info": {
   "codemirror_mode": {
    "name": "ipython",
    "version": 3
   },
   "file_extension": ".py",
   "mimetype": "text/x-python",
   "name": "python",
   "nbconvert_exporter": "python",
   "pygments_lexer": "ipython3",
   "version": "3.8.3"
  }
 },
 "nbformat": 4,
 "nbformat_minor": 2
}
