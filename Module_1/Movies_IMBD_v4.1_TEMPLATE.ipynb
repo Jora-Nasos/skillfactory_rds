{
 "cells": [
  {
   "cell_type": "code",
   "execution_count": 40,
   "metadata": {
    "_cell_guid": "b1076dfc-b9ad-4769-8c92-a6c4dae69d19",
    "_uuid": "8f2839f25d086af736a60e9eeb907d3b93b6e0e5",
    "colab": {},
    "colab_type": "code",
    "id": "U2D2gTdJVp90"
   },
   "outputs": [],
   "source": [
    "import numpy as np\n",
    "import pandas as pd\n",
    "import seaborn as sns\n",
    "import datetime as dt\n",
    "import matplotlib.pyplot as plt\n",
    "import collections\n",
    "import operator\n",
    "import itertools\n",
    "from collections import Counter\n",
    "from datetime import datetime \n",
    "from itertools import permutations\n",
    "from itertools import combinations"
   ]
  },
  {
   "cell_type": "code",
   "execution_count": 41,
   "metadata": {
    "_cell_guid": "79c7e3d0-c299-4dcb-8224-4455121ee9b0",
    "_uuid": "d629ff2d2480ee46fbb7e2d37f6b5fab8052498a",
    "colab": {},
    "colab_type": "code",
    "id": "oyGfxL3eVp9-"
   },
   "outputs": [],
   "source": [
    "data = pd.read_csv('movie_bd_v5.csv')\n"
   ]
  },
  {
   "cell_type": "markdown",
   "metadata": {
    "colab_type": "text",
    "id": "DTIt7ezGVp-G"
   },
   "source": [
    "# Предобработка"
   ]
  },
  {
   "cell_type": "code",
   "execution_count": 42,
   "metadata": {
    "colab": {},
    "colab_type": "code",
    "id": "jNb40DwKVp-H"
   },
   "outputs": [],
   "source": [
    "answers = {} # создадим словарь для ответов\n",
    "\n",
    "# Добавим колонку profit\n",
    "data['profit'] = data.revenue - data.budget\n",
    "data['title_length']=data.original_title.apply(lambda t: len(t))\n",
    "\n",
    "#the time given in the dataset is in string format.\n",
    "#So we need to change this in datetime format\n",
    "data.release_date = pd.to_datetime(data.release_date)\n",
    "#data.release_date = data.release_date.apply(lambda t: dt.datetime.strptime(t,\"%m/%d/%Y\")) еще один рабочий вариант\n",
    "\n"
   ]
  },
  {
   "cell_type": "markdown",
   "metadata": {
    "colab_type": "text",
    "id": "YxZaH-nPVp-L"
   },
   "source": [
    "# 1. У какого фильма из списка самый большой бюджет?"
   ]
  },
  {
   "cell_type": "markdown",
   "metadata": {
    "colab_type": "text",
    "id": "Nd-G5gX6Vp-M"
   },
   "source": [
    "Использовать варианты ответов в коде решения запрещено.    \n",
    "Вы думаете и в жизни у вас будут варианты ответов?)"
   ]
  },
  {
   "cell_type": "code",
   "execution_count": 21,
   "metadata": {
    "colab": {},
    "colab_type": "code",
    "id": "uVnXAY5RVp-O"
   },
   "outputs": [],
   "source": [
    "answers['1'] = '5. Pirates of the Caribbean: On Stranger Tides (tt1298650)'"
   ]
  },
  {
   "cell_type": "code",
   "execution_count": 79,
   "metadata": {
    "colab": {},
    "colab_type": "code",
    "id": "dZwb3m28Vp-S"
   },
   "outputs": [
    {
     "data": {
      "text/html": [
       "<div>\n",
       "<style scoped>\n",
       "    .dataframe tbody tr th:only-of-type {\n",
       "        vertical-align: middle;\n",
       "    }\n",
       "\n",
       "    .dataframe tbody tr th {\n",
       "        vertical-align: top;\n",
       "    }\n",
       "\n",
       "    .dataframe thead th {\n",
       "        text-align: right;\n",
       "    }\n",
       "</style>\n",
       "<table border=\"1\" class=\"dataframe\">\n",
       "  <thead>\n",
       "    <tr style=\"text-align: right;\">\n",
       "      <th></th>\n",
       "      <th>imdb_id</th>\n",
       "      <th>budget</th>\n",
       "      <th>revenue</th>\n",
       "      <th>original_title</th>\n",
       "      <th>cast</th>\n",
       "      <th>director</th>\n",
       "      <th>tagline</th>\n",
       "      <th>overview</th>\n",
       "      <th>runtime</th>\n",
       "      <th>genres</th>\n",
       "      <th>production_companies</th>\n",
       "      <th>release_date</th>\n",
       "      <th>vote_average</th>\n",
       "      <th>release_year</th>\n",
       "      <th>profit</th>\n",
       "    </tr>\n",
       "  </thead>\n",
       "  <tbody>\n",
       "    <tr>\n",
       "      <th>723</th>\n",
       "      <td>tt1298650</td>\n",
       "      <td>380000000</td>\n",
       "      <td>1021683000</td>\n",
       "      <td>Pirates of the Caribbean: On Stranger Tides</td>\n",
       "      <td>Johnny Depp|PenÃ©lope Cruz|Geoffrey Rush|Ian M...</td>\n",
       "      <td>Rob Marshall</td>\n",
       "      <td>Live Forever Or Die Trying.</td>\n",
       "      <td>Captain Jack Sparrow crosses paths with a woma...</td>\n",
       "      <td>136</td>\n",
       "      <td>Adventure|Action|Fantasy</td>\n",
       "      <td>Walt Disney Pictures|Jerry Bruckheimer Films|M...</td>\n",
       "      <td>2011-05-11</td>\n",
       "      <td>6.3</td>\n",
       "      <td>2011</td>\n",
       "      <td>641683000</td>\n",
       "    </tr>\n",
       "  </tbody>\n",
       "</table>\n",
       "</div>"
      ],
      "text/plain": [
       "       imdb_id     budget     revenue  \\\n",
       "723  tt1298650  380000000  1021683000   \n",
       "\n",
       "                                  original_title  \\\n",
       "723  Pirates of the Caribbean: On Stranger Tides   \n",
       "\n",
       "                                                  cast      director  \\\n",
       "723  Johnny Depp|PenÃ©lope Cruz|Geoffrey Rush|Ian M...  Rob Marshall   \n",
       "\n",
       "                         tagline  \\\n",
       "723  Live Forever Or Die Trying.   \n",
       "\n",
       "                                              overview  runtime  \\\n",
       "723  Captain Jack Sparrow crosses paths with a woma...      136   \n",
       "\n",
       "                       genres  \\\n",
       "723  Adventure|Action|Fantasy   \n",
       "\n",
       "                                  production_companies release_date  \\\n",
       "723  Walt Disney Pictures|Jerry Bruckheimer Films|M...   2011-05-11   \n",
       "\n",
       "     vote_average  release_year     profit  \n",
       "723           6.3          2011  641683000  "
      ]
     },
     "execution_count": 79,
     "metadata": {},
     "output_type": "execute_result"
    }
   ],
   "source": [
    "data[data.budget == data.budget.max()]"
   ]
  },
  {
   "cell_type": "markdown",
   "metadata": {
    "colab_type": "text",
    "id": "FNRbbI3vVp-c"
   },
   "source": [
    "# 2. Какой из фильмов самый длительный (в минутах)?"
   ]
  },
  {
   "cell_type": "code",
   "execution_count": 22,
   "metadata": {
    "colab": {},
    "colab_type": "code",
    "id": "vHAoEXNTVp-d"
   },
   "outputs": [],
   "source": [
    "answers['2'] = '2. Gods and Generals (tt0279111)'"
   ]
  },
  {
   "cell_type": "code",
   "execution_count": 9,
   "metadata": {
    "colab": {},
    "colab_type": "code",
    "id": "ot-VX2XrVp-g"
   },
   "outputs": [
    {
     "data": {
      "text/html": [
       "<div>\n",
       "<style scoped>\n",
       "    .dataframe tbody tr th:only-of-type {\n",
       "        vertical-align: middle;\n",
       "    }\n",
       "\n",
       "    .dataframe tbody tr th {\n",
       "        vertical-align: top;\n",
       "    }\n",
       "\n",
       "    .dataframe thead th {\n",
       "        text-align: right;\n",
       "    }\n",
       "</style>\n",
       "<table border=\"1\" class=\"dataframe\">\n",
       "  <thead>\n",
       "    <tr style=\"text-align: right;\">\n",
       "      <th></th>\n",
       "      <th>imdb_id</th>\n",
       "      <th>budget</th>\n",
       "      <th>revenue</th>\n",
       "      <th>original_title</th>\n",
       "      <th>cast</th>\n",
       "      <th>director</th>\n",
       "      <th>tagline</th>\n",
       "      <th>overview</th>\n",
       "      <th>runtime</th>\n",
       "      <th>genres</th>\n",
       "      <th>production_companies</th>\n",
       "      <th>release_date</th>\n",
       "      <th>vote_average</th>\n",
       "      <th>release_year</th>\n",
       "    </tr>\n",
       "  </thead>\n",
       "  <tbody>\n",
       "    <tr>\n",
       "      <th>1157</th>\n",
       "      <td>tt0279111</td>\n",
       "      <td>56000000</td>\n",
       "      <td>12923936</td>\n",
       "      <td>Gods and Generals</td>\n",
       "      <td>Stephen Lang|Jeff Daniels|Robert Duvall|Kevin ...</td>\n",
       "      <td>Ronald F. Maxwell</td>\n",
       "      <td>The nations heart was touched by...</td>\n",
       "      <td>The film centers mostly around the personal an...</td>\n",
       "      <td>214</td>\n",
       "      <td>Drama|History|War</td>\n",
       "      <td>Turner Pictures|Antietam Filmworks</td>\n",
       "      <td>2/21/2003</td>\n",
       "      <td>5.8</td>\n",
       "      <td>2003</td>\n",
       "    </tr>\n",
       "  </tbody>\n",
       "</table>\n",
       "</div>"
      ],
      "text/plain": [
       "        imdb_id    budget   revenue     original_title  \\\n",
       "1157  tt0279111  56000000  12923936  Gods and Generals   \n",
       "\n",
       "                                                   cast           director  \\\n",
       "1157  Stephen Lang|Jeff Daniels|Robert Duvall|Kevin ...  Ronald F. Maxwell   \n",
       "\n",
       "                                  tagline  \\\n",
       "1157  The nations heart was touched by...   \n",
       "\n",
       "                                               overview  runtime  \\\n",
       "1157  The film centers mostly around the personal an...      214   \n",
       "\n",
       "                 genres                production_companies release_date  \\\n",
       "1157  Drama|History|War  Turner Pictures|Antietam Filmworks    2/21/2003   \n",
       "\n",
       "      vote_average  release_year  \n",
       "1157           5.8          2003  "
      ]
     },
     "execution_count": 9,
     "metadata": {},
     "output_type": "execute_result"
    }
   ],
   "source": [
    "data[data.runtime == data.runtime.max()]"
   ]
  },
  {
   "cell_type": "markdown",
   "metadata": {
    "colab_type": "text",
    "id": "bapLlpW8Vp-k"
   },
   "source": [
    "# 3. Какой из фильмов самый короткий (в минутах)?\n",
    "\n",
    "\n",
    "\n"
   ]
  },
  {
   "cell_type": "code",
   "execution_count": 23,
   "metadata": {
    "colab": {},
    "colab_type": "code",
    "id": "YBxaSHuAVp-l"
   },
   "outputs": [],
   "source": [
    "answers['3'] = '3. Winnie the Pooh (tt1449283)'"
   ]
  },
  {
   "cell_type": "code",
   "execution_count": 8,
   "metadata": {},
   "outputs": [
    {
     "data": {
      "text/html": [
       "<div>\n",
       "<style scoped>\n",
       "    .dataframe tbody tr th:only-of-type {\n",
       "        vertical-align: middle;\n",
       "    }\n",
       "\n",
       "    .dataframe tbody tr th {\n",
       "        vertical-align: top;\n",
       "    }\n",
       "\n",
       "    .dataframe thead th {\n",
       "        text-align: right;\n",
       "    }\n",
       "</style>\n",
       "<table border=\"1\" class=\"dataframe\">\n",
       "  <thead>\n",
       "    <tr style=\"text-align: right;\">\n",
       "      <th></th>\n",
       "      <th>imdb_id</th>\n",
       "      <th>budget</th>\n",
       "      <th>revenue</th>\n",
       "      <th>original_title</th>\n",
       "      <th>cast</th>\n",
       "      <th>director</th>\n",
       "      <th>tagline</th>\n",
       "      <th>overview</th>\n",
       "      <th>runtime</th>\n",
       "      <th>genres</th>\n",
       "      <th>production_companies</th>\n",
       "      <th>release_date</th>\n",
       "      <th>vote_average</th>\n",
       "      <th>release_year</th>\n",
       "    </tr>\n",
       "  </thead>\n",
       "  <tbody>\n",
       "    <tr>\n",
       "      <th>768</th>\n",
       "      <td>tt1449283</td>\n",
       "      <td>30000000</td>\n",
       "      <td>14460000</td>\n",
       "      <td>Winnie the Pooh</td>\n",
       "      <td>Jim Cummings|Travis Oates|Jim Cummings|Bud Luc...</td>\n",
       "      <td>Stephen Anderson|Don Hall</td>\n",
       "      <td>Oh Pooh.</td>\n",
       "      <td>During an ordinary day in Hundred Acre Wood, W...</td>\n",
       "      <td>63</td>\n",
       "      <td>Animation|Family</td>\n",
       "      <td>Walt Disney Pictures|Walt Disney Animation Stu...</td>\n",
       "      <td>4/13/2011</td>\n",
       "      <td>6.8</td>\n",
       "      <td>2011</td>\n",
       "    </tr>\n",
       "  </tbody>\n",
       "</table>\n",
       "</div>"
      ],
      "text/plain": [
       "       imdb_id    budget   revenue   original_title  \\\n",
       "768  tt1449283  30000000  14460000  Winnie the Pooh   \n",
       "\n",
       "                                                  cast  \\\n",
       "768  Jim Cummings|Travis Oates|Jim Cummings|Bud Luc...   \n",
       "\n",
       "                      director   tagline  \\\n",
       "768  Stephen Anderson|Don Hall  Oh Pooh.   \n",
       "\n",
       "                                              overview  runtime  \\\n",
       "768  During an ordinary day in Hundred Acre Wood, W...       63   \n",
       "\n",
       "               genres                               production_companies  \\\n",
       "768  Animation|Family  Walt Disney Pictures|Walt Disney Animation Stu...   \n",
       "\n",
       "    release_date  vote_average  release_year  \n",
       "768    4/13/2011           6.8          2011  "
      ]
     },
     "execution_count": 8,
     "metadata": {},
     "output_type": "execute_result"
    }
   ],
   "source": [
    "data[data.runtime == data.runtime.min()]"
   ]
  },
  {
   "cell_type": "markdown",
   "metadata": {
    "colab_type": "text",
    "id": "TfQbxbfNVp-p"
   },
   "source": [
    "# 4. Какова средняя длительность фильмов?\n"
   ]
  },
  {
   "cell_type": "code",
   "execution_count": 24,
   "metadata": {
    "colab": {},
    "colab_type": "code",
    "id": "5K6dKZYVVp-q"
   },
   "outputs": [],
   "source": [
    "answers['4'] = '2. 110'"
   ]
  },
  {
   "cell_type": "code",
   "execution_count": 7,
   "metadata": {},
   "outputs": [
    {
     "data": {
      "text/plain": [
       "109.6585494970884"
      ]
     },
     "execution_count": 7,
     "metadata": {},
     "output_type": "execute_result"
    }
   ],
   "source": [
    "data.runtime.mean()"
   ]
  },
  {
   "cell_type": "markdown",
   "metadata": {},
   "source": [
    "ВАРИАНТ 2"
   ]
  },
  {
   "cell_type": "code",
   "execution_count": null,
   "metadata": {},
   "outputs": [],
   "source": [
    "# Можно посмотреть тут\n",
    "data.describe()"
   ]
  },
  {
   "cell_type": "markdown",
   "metadata": {
    "colab_type": "text",
    "id": "r5TvbnT_Vp-u"
   },
   "source": [
    "# 5. Каково медианное значение длительности фильмов? "
   ]
  },
  {
   "cell_type": "code",
   "execution_count": 25,
   "metadata": {
    "colab": {},
    "colab_type": "code",
    "id": "iBROplKnVp-v"
   },
   "outputs": [],
   "source": [
    "answers['5'] = '1. 107'"
   ]
  },
  {
   "cell_type": "code",
   "execution_count": 6,
   "metadata": {},
   "outputs": [
    {
     "data": {
      "text/plain": [
       "107.0"
      ]
     },
     "execution_count": 6,
     "metadata": {},
     "output_type": "execute_result"
    }
   ],
   "source": [
    "data.runtime.median()"
   ]
  },
  {
   "cell_type": "markdown",
   "metadata": {
    "colab_type": "text",
    "id": "39P-deDSVp-y"
   },
   "source": [
    "# 6. Какой самый прибыльный фильм?\n",
    "#### Внимание! Здесь и далее под «прибылью» или «убытками» понимается разность между сборами и бюджетом фильма. (прибыль = сборы - бюджет) в нашем датасете это будет (profit = revenue - budget) "
   ]
  },
  {
   "cell_type": "code",
   "execution_count": 26,
   "metadata": {
    "colab": {},
    "colab_type": "code",
    "id": "UYZh4T9WVp-y"
   },
   "outputs": [],
   "source": [
    "answers['6'] = '5. Avatar (tt0499549)'"
   ]
  },
  {
   "cell_type": "code",
   "execution_count": 11,
   "metadata": {},
   "outputs": [
    {
     "data": {
      "text/html": [
       "<div>\n",
       "<style scoped>\n",
       "    .dataframe tbody tr th:only-of-type {\n",
       "        vertical-align: middle;\n",
       "    }\n",
       "\n",
       "    .dataframe tbody tr th {\n",
       "        vertical-align: top;\n",
       "    }\n",
       "\n",
       "    .dataframe thead th {\n",
       "        text-align: right;\n",
       "    }\n",
       "</style>\n",
       "<table border=\"1\" class=\"dataframe\">\n",
       "  <thead>\n",
       "    <tr style=\"text-align: right;\">\n",
       "      <th></th>\n",
       "      <th>imdb_id</th>\n",
       "      <th>budget</th>\n",
       "      <th>revenue</th>\n",
       "      <th>original_title</th>\n",
       "      <th>cast</th>\n",
       "      <th>director</th>\n",
       "      <th>tagline</th>\n",
       "      <th>overview</th>\n",
       "      <th>runtime</th>\n",
       "      <th>genres</th>\n",
       "      <th>production_companies</th>\n",
       "      <th>release_date</th>\n",
       "      <th>vote_average</th>\n",
       "      <th>release_year</th>\n",
       "      <th>profit</th>\n",
       "    </tr>\n",
       "  </thead>\n",
       "  <tbody>\n",
       "    <tr>\n",
       "      <th>239</th>\n",
       "      <td>tt0499549</td>\n",
       "      <td>237000000</td>\n",
       "      <td>2781505847</td>\n",
       "      <td>Avatar</td>\n",
       "      <td>Sam Worthington|Zoe Saldana|Sigourney Weaver|S...</td>\n",
       "      <td>James Cameron</td>\n",
       "      <td>Enter the World of Pandora.</td>\n",
       "      <td>In the 22nd century, a paraplegic Marine is di...</td>\n",
       "      <td>162</td>\n",
       "      <td>Action|Adventure|Fantasy|Science Fiction</td>\n",
       "      <td>Ingenious Film Partners|Twentieth Century Fox ...</td>\n",
       "      <td>12/10/2009</td>\n",
       "      <td>7.1</td>\n",
       "      <td>2009</td>\n",
       "      <td>2544505847</td>\n",
       "    </tr>\n",
       "  </tbody>\n",
       "</table>\n",
       "</div>"
      ],
      "text/plain": [
       "       imdb_id     budget     revenue original_title  \\\n",
       "239  tt0499549  237000000  2781505847         Avatar   \n",
       "\n",
       "                                                  cast       director  \\\n",
       "239  Sam Worthington|Zoe Saldana|Sigourney Weaver|S...  James Cameron   \n",
       "\n",
       "                         tagline  \\\n",
       "239  Enter the World of Pandora.   \n",
       "\n",
       "                                              overview  runtime  \\\n",
       "239  In the 22nd century, a paraplegic Marine is di...      162   \n",
       "\n",
       "                                       genres  \\\n",
       "239  Action|Adventure|Fantasy|Science Fiction   \n",
       "\n",
       "                                  production_companies release_date  \\\n",
       "239  Ingenious Film Partners|Twentieth Century Fox ...   12/10/2009   \n",
       "\n",
       "     vote_average  release_year      profit  \n",
       "239           7.1          2009  2544505847  "
      ]
     },
     "execution_count": 11,
     "metadata": {},
     "output_type": "execute_result"
    }
   ],
   "source": [
    "data[data.profit == data.profit.max()]"
   ]
  },
  {
   "cell_type": "markdown",
   "metadata": {
    "colab_type": "text",
    "id": "M99JmIX4Vp-2"
   },
   "source": [
    "# 7. Какой фильм самый убыточный? "
   ]
  },
  {
   "cell_type": "code",
   "execution_count": 27,
   "metadata": {
    "colab": {},
    "colab_type": "code",
    "id": "w-D2m4XPVp-3"
   },
   "outputs": [],
   "source": [
    "answers['7'] = '5. The Lone Ranger (tt1210819)'"
   ]
  },
  {
   "cell_type": "code",
   "execution_count": 18,
   "metadata": {},
   "outputs": [
    {
     "data": {
      "text/html": [
       "<div>\n",
       "<style scoped>\n",
       "    .dataframe tbody tr th:only-of-type {\n",
       "        vertical-align: middle;\n",
       "    }\n",
       "\n",
       "    .dataframe tbody tr th {\n",
       "        vertical-align: top;\n",
       "    }\n",
       "\n",
       "    .dataframe thead th {\n",
       "        text-align: right;\n",
       "    }\n",
       "</style>\n",
       "<table border=\"1\" class=\"dataframe\">\n",
       "  <thead>\n",
       "    <tr style=\"text-align: right;\">\n",
       "      <th></th>\n",
       "      <th>imdb_id</th>\n",
       "      <th>budget</th>\n",
       "      <th>revenue</th>\n",
       "      <th>original_title</th>\n",
       "      <th>cast</th>\n",
       "      <th>director</th>\n",
       "      <th>tagline</th>\n",
       "      <th>overview</th>\n",
       "      <th>runtime</th>\n",
       "      <th>genres</th>\n",
       "      <th>production_companies</th>\n",
       "      <th>release_date</th>\n",
       "      <th>vote_average</th>\n",
       "      <th>release_year</th>\n",
       "      <th>profit</th>\n",
       "    </tr>\n",
       "  </thead>\n",
       "  <tbody>\n",
       "    <tr>\n",
       "      <th>1245</th>\n",
       "      <td>tt1210819</td>\n",
       "      <td>255000000</td>\n",
       "      <td>89289910</td>\n",
       "      <td>The Lone Ranger</td>\n",
       "      <td>Johnny Depp|Armie Hammer|William Fichtner|Hele...</td>\n",
       "      <td>Gore Verbinski</td>\n",
       "      <td>Never Take Off the Mask</td>\n",
       "      <td>The Texas Rangers chase down a gang of outlaws...</td>\n",
       "      <td>149</td>\n",
       "      <td>Action|Adventure|Western</td>\n",
       "      <td>Walt Disney Pictures|Jerry Bruckheimer Films|I...</td>\n",
       "      <td>2013-07-03</td>\n",
       "      <td>6.0</td>\n",
       "      <td>2013</td>\n",
       "      <td>-165710090</td>\n",
       "    </tr>\n",
       "  </tbody>\n",
       "</table>\n",
       "</div>"
      ],
      "text/plain": [
       "        imdb_id     budget   revenue   original_title  \\\n",
       "1245  tt1210819  255000000  89289910  The Lone Ranger   \n",
       "\n",
       "                                                   cast        director  \\\n",
       "1245  Johnny Depp|Armie Hammer|William Fichtner|Hele...  Gore Verbinski   \n",
       "\n",
       "                      tagline  \\\n",
       "1245  Never Take Off the Mask   \n",
       "\n",
       "                                               overview  runtime  \\\n",
       "1245  The Texas Rangers chase down a gang of outlaws...      149   \n",
       "\n",
       "                        genres  \\\n",
       "1245  Action|Adventure|Western   \n",
       "\n",
       "                                   production_companies release_date  \\\n",
       "1245  Walt Disney Pictures|Jerry Bruckheimer Films|I...   2013-07-03   \n",
       "\n",
       "      vote_average  release_year     profit  \n",
       "1245           6.0          2013 -165710090  "
      ]
     },
     "execution_count": 18,
     "metadata": {},
     "output_type": "execute_result"
    }
   ],
   "source": [
    "data[data.profit == data.profit.min()]"
   ]
  },
  {
   "cell_type": "markdown",
   "metadata": {
    "colab_type": "text",
    "id": "wEOM5ERVVp-6"
   },
   "source": [
    "# 8. У скольких фильмов из датасета объем сборов оказался выше бюджета?"
   ]
  },
  {
   "cell_type": "code",
   "execution_count": 28,
   "metadata": {
    "colab": {},
    "colab_type": "code",
    "id": "y00_7HD6Vp-7"
   },
   "outputs": [],
   "source": [
    "answers['8'] = '1. 1478'"
   ]
  },
  {
   "cell_type": "code",
   "execution_count": 13,
   "metadata": {},
   "outputs": [
    {
     "data": {
      "text/plain": [
       "1478"
      ]
     },
     "execution_count": 13,
     "metadata": {},
     "output_type": "execute_result"
    }
   ],
   "source": [
    "data[data.profit > 0].imdb_id.count()"
   ]
  },
  {
   "cell_type": "markdown",
   "metadata": {
    "colab_type": "text",
    "id": "xhpspA9KVp_A"
   },
   "source": [
    "# 9. Какой фильм оказался самым кассовым в 2008 году?"
   ]
  },
  {
   "cell_type": "code",
   "execution_count": 33,
   "metadata": {
    "colab": {},
    "colab_type": "code",
    "id": "MoUyQr9RVp_B"
   },
   "outputs": [],
   "source": [
    "answers['9'] = '4. The Dark Knight (tt0468569)'"
   ]
  },
  {
   "cell_type": "code",
   "execution_count": 32,
   "metadata": {},
   "outputs": [
    {
     "data": {
      "text/html": [
       "<div>\n",
       "<style scoped>\n",
       "    .dataframe tbody tr th:only-of-type {\n",
       "        vertical-align: middle;\n",
       "    }\n",
       "\n",
       "    .dataframe tbody tr th {\n",
       "        vertical-align: top;\n",
       "    }\n",
       "\n",
       "    .dataframe thead th {\n",
       "        text-align: right;\n",
       "    }\n",
       "</style>\n",
       "<table border=\"1\" class=\"dataframe\">\n",
       "  <thead>\n",
       "    <tr style=\"text-align: right;\">\n",
       "      <th></th>\n",
       "      <th>imdb_id</th>\n",
       "      <th>budget</th>\n",
       "      <th>revenue</th>\n",
       "      <th>original_title</th>\n",
       "      <th>cast</th>\n",
       "      <th>director</th>\n",
       "      <th>tagline</th>\n",
       "      <th>overview</th>\n",
       "      <th>runtime</th>\n",
       "      <th>genres</th>\n",
       "      <th>production_companies</th>\n",
       "      <th>release_date</th>\n",
       "      <th>vote_average</th>\n",
       "      <th>release_year</th>\n",
       "      <th>profit</th>\n",
       "      <th>title_length</th>\n",
       "    </tr>\n",
       "  </thead>\n",
       "  <tbody>\n",
       "    <tr>\n",
       "      <th>599</th>\n",
       "      <td>tt0468569</td>\n",
       "      <td>185000000</td>\n",
       "      <td>1001921825</td>\n",
       "      <td>The Dark Knight</td>\n",
       "      <td>Christian Bale|Michael Caine|Heath Ledger|Aaro...</td>\n",
       "      <td>Christopher Nolan</td>\n",
       "      <td>Why So Serious?</td>\n",
       "      <td>Batman raises the stakes in his war on crime. ...</td>\n",
       "      <td>152</td>\n",
       "      <td>Drama|Action|Crime|Thriller</td>\n",
       "      <td>DC Comics|Legendary Pictures|Warner Bros.|Syncopy</td>\n",
       "      <td>2008-07-16</td>\n",
       "      <td>8.1</td>\n",
       "      <td>2008</td>\n",
       "      <td>816921825</td>\n",
       "      <td>15</td>\n",
       "    </tr>\n",
       "  </tbody>\n",
       "</table>\n",
       "</div>"
      ],
      "text/plain": [
       "       imdb_id     budget     revenue   original_title  \\\n",
       "599  tt0468569  185000000  1001921825  The Dark Knight   \n",
       "\n",
       "                                                  cast           director  \\\n",
       "599  Christian Bale|Michael Caine|Heath Ledger|Aaro...  Christopher Nolan   \n",
       "\n",
       "             tagline                                           overview  \\\n",
       "599  Why So Serious?  Batman raises the stakes in his war on crime. ...   \n",
       "\n",
       "     runtime                       genres  \\\n",
       "599      152  Drama|Action|Crime|Thriller   \n",
       "\n",
       "                                  production_companies release_date  \\\n",
       "599  DC Comics|Legendary Pictures|Warner Bros.|Syncopy   2008-07-16   \n",
       "\n",
       "     vote_average  release_year     profit  title_length  \n",
       "599           8.1          2008  816921825            15  "
      ]
     },
     "execution_count": 32,
     "metadata": {},
     "output_type": "execute_result"
    }
   ],
   "source": [
    "df = data[data.release_year==2008]\n",
    "df[df.revenue == df.revenue.max()]\n"
   ]
  },
  {
   "cell_type": "markdown",
   "metadata": {},
   "source": [
    "ВАРИАНТ 2"
   ]
  },
  {
   "cell_type": "code",
   "execution_count": 20,
   "metadata": {},
   "outputs": [
    {
     "data": {
      "text/html": [
       "<div>\n",
       "<style scoped>\n",
       "    .dataframe tbody tr th:only-of-type {\n",
       "        vertical-align: middle;\n",
       "    }\n",
       "\n",
       "    .dataframe tbody tr th {\n",
       "        vertical-align: top;\n",
       "    }\n",
       "\n",
       "    .dataframe thead th {\n",
       "        text-align: right;\n",
       "    }\n",
       "</style>\n",
       "<table border=\"1\" class=\"dataframe\">\n",
       "  <thead>\n",
       "    <tr style=\"text-align: right;\">\n",
       "      <th></th>\n",
       "      <th>imdb_id</th>\n",
       "      <th>budget</th>\n",
       "      <th>revenue</th>\n",
       "      <th>original_title</th>\n",
       "      <th>cast</th>\n",
       "      <th>director</th>\n",
       "      <th>tagline</th>\n",
       "      <th>overview</th>\n",
       "      <th>runtime</th>\n",
       "      <th>genres</th>\n",
       "      <th>production_companies</th>\n",
       "      <th>release_date</th>\n",
       "      <th>vote_average</th>\n",
       "      <th>release_year</th>\n",
       "      <th>profit</th>\n",
       "    </tr>\n",
       "  </thead>\n",
       "  <tbody>\n",
       "    <tr>\n",
       "      <th>599</th>\n",
       "      <td>tt0468569</td>\n",
       "      <td>185000000</td>\n",
       "      <td>1001921825</td>\n",
       "      <td>The Dark Knight</td>\n",
       "      <td>Christian Bale|Michael Caine|Heath Ledger|Aaro...</td>\n",
       "      <td>Christopher Nolan</td>\n",
       "      <td>Why So Serious?</td>\n",
       "      <td>Batman raises the stakes in his war on crime. ...</td>\n",
       "      <td>152</td>\n",
       "      <td>Drama|Action|Crime|Thriller</td>\n",
       "      <td>DC Comics|Legendary Pictures|Warner Bros.|Syncopy</td>\n",
       "      <td>2008-07-16</td>\n",
       "      <td>8.1</td>\n",
       "      <td>2008</td>\n",
       "      <td>816921825</td>\n",
       "    </tr>\n",
       "  </tbody>\n",
       "</table>\n",
       "</div>"
      ],
      "text/plain": [
       "       imdb_id     budget     revenue   original_title  \\\n",
       "599  tt0468569  185000000  1001921825  The Dark Knight   \n",
       "\n",
       "                                                  cast           director  \\\n",
       "599  Christian Bale|Michael Caine|Heath Ledger|Aaro...  Christopher Nolan   \n",
       "\n",
       "             tagline                                           overview  \\\n",
       "599  Why So Serious?  Batman raises the stakes in his war on crime. ...   \n",
       "\n",
       "     runtime                       genres  \\\n",
       "599      152  Drama|Action|Crime|Thriller   \n",
       "\n",
       "                                  production_companies release_date  \\\n",
       "599  DC Comics|Legendary Pictures|Warner Bros.|Syncopy   2008-07-16   \n",
       "\n",
       "     vote_average  release_year     profit  \n",
       "599           8.1          2008  816921825  "
      ]
     },
     "execution_count": 20,
     "metadata": {},
     "output_type": "execute_result"
    }
   ],
   "source": [
    "data.query('release_year == 2008').query('revenue == revenue.max()')"
   ]
  },
  {
   "cell_type": "markdown",
   "metadata": {
    "colab_type": "text",
    "id": "Zi4hDKidVp_F"
   },
   "source": [
    "# 10. Самый убыточный фильм за период с 2012 по 2014 г. (включительно)?\n"
   ]
  },
  {
   "cell_type": "code",
   "execution_count": 34,
   "metadata": {
    "colab": {},
    "colab_type": "code",
    "id": "XqyRmufJVp_F"
   },
   "outputs": [],
   "source": [
    "answers['10'] = '5. The Lone Ranger (tt1210819)'"
   ]
  },
  {
   "cell_type": "code",
   "execution_count": 21,
   "metadata": {},
   "outputs": [
    {
     "data": {
      "text/html": [
       "<div>\n",
       "<style scoped>\n",
       "    .dataframe tbody tr th:only-of-type {\n",
       "        vertical-align: middle;\n",
       "    }\n",
       "\n",
       "    .dataframe tbody tr th {\n",
       "        vertical-align: top;\n",
       "    }\n",
       "\n",
       "    .dataframe thead th {\n",
       "        text-align: right;\n",
       "    }\n",
       "</style>\n",
       "<table border=\"1\" class=\"dataframe\">\n",
       "  <thead>\n",
       "    <tr style=\"text-align: right;\">\n",
       "      <th></th>\n",
       "      <th>imdb_id</th>\n",
       "      <th>budget</th>\n",
       "      <th>revenue</th>\n",
       "      <th>original_title</th>\n",
       "      <th>cast</th>\n",
       "      <th>director</th>\n",
       "      <th>tagline</th>\n",
       "      <th>overview</th>\n",
       "      <th>runtime</th>\n",
       "      <th>genres</th>\n",
       "      <th>production_companies</th>\n",
       "      <th>release_date</th>\n",
       "      <th>vote_average</th>\n",
       "      <th>release_year</th>\n",
       "      <th>profit</th>\n",
       "    </tr>\n",
       "  </thead>\n",
       "  <tbody>\n",
       "    <tr>\n",
       "      <th>1245</th>\n",
       "      <td>tt1210819</td>\n",
       "      <td>255000000</td>\n",
       "      <td>89289910</td>\n",
       "      <td>The Lone Ranger</td>\n",
       "      <td>Johnny Depp|Armie Hammer|William Fichtner|Hele...</td>\n",
       "      <td>Gore Verbinski</td>\n",
       "      <td>Never Take Off the Mask</td>\n",
       "      <td>The Texas Rangers chase down a gang of outlaws...</td>\n",
       "      <td>149</td>\n",
       "      <td>Action|Adventure|Western</td>\n",
       "      <td>Walt Disney Pictures|Jerry Bruckheimer Films|I...</td>\n",
       "      <td>2013-07-03</td>\n",
       "      <td>6.0</td>\n",
       "      <td>2013</td>\n",
       "      <td>-165710090</td>\n",
       "    </tr>\n",
       "  </tbody>\n",
       "</table>\n",
       "</div>"
      ],
      "text/plain": [
       "        imdb_id     budget   revenue   original_title  \\\n",
       "1245  tt1210819  255000000  89289910  The Lone Ranger   \n",
       "\n",
       "                                                   cast        director  \\\n",
       "1245  Johnny Depp|Armie Hammer|William Fichtner|Hele...  Gore Verbinski   \n",
       "\n",
       "                      tagline  \\\n",
       "1245  Never Take Off the Mask   \n",
       "\n",
       "                                               overview  runtime  \\\n",
       "1245  The Texas Rangers chase down a gang of outlaws...      149   \n",
       "\n",
       "                        genres  \\\n",
       "1245  Action|Adventure|Western   \n",
       "\n",
       "                                   production_companies release_date  \\\n",
       "1245  Walt Disney Pictures|Jerry Bruckheimer Films|I...   2013-07-03   \n",
       "\n",
       "      vote_average  release_year     profit  \n",
       "1245           6.0          2013 -165710090  "
      ]
     },
     "execution_count": 21,
     "metadata": {},
     "output_type": "execute_result"
    }
   ],
   "source": [
    "df = data.loc[(data.release_year>=2012)&(data.release_year<=2014)]\n",
    "df.loc[df.profit == df.profit.min()]"
   ]
  },
  {
   "cell_type": "markdown",
   "metadata": {},
   "source": [
    "ВАРИАНТ 2"
   ]
  },
  {
   "cell_type": "code",
   "execution_count": 22,
   "metadata": {},
   "outputs": [
    {
     "data": {
      "text/html": [
       "<div>\n",
       "<style scoped>\n",
       "    .dataframe tbody tr th:only-of-type {\n",
       "        vertical-align: middle;\n",
       "    }\n",
       "\n",
       "    .dataframe tbody tr th {\n",
       "        vertical-align: top;\n",
       "    }\n",
       "\n",
       "    .dataframe thead th {\n",
       "        text-align: right;\n",
       "    }\n",
       "</style>\n",
       "<table border=\"1\" class=\"dataframe\">\n",
       "  <thead>\n",
       "    <tr style=\"text-align: right;\">\n",
       "      <th></th>\n",
       "      <th>imdb_id</th>\n",
       "      <th>budget</th>\n",
       "      <th>revenue</th>\n",
       "      <th>original_title</th>\n",
       "      <th>cast</th>\n",
       "      <th>director</th>\n",
       "      <th>tagline</th>\n",
       "      <th>overview</th>\n",
       "      <th>runtime</th>\n",
       "      <th>genres</th>\n",
       "      <th>production_companies</th>\n",
       "      <th>release_date</th>\n",
       "      <th>vote_average</th>\n",
       "      <th>release_year</th>\n",
       "      <th>profit</th>\n",
       "    </tr>\n",
       "  </thead>\n",
       "  <tbody>\n",
       "    <tr>\n",
       "      <th>1245</th>\n",
       "      <td>tt1210819</td>\n",
       "      <td>255000000</td>\n",
       "      <td>89289910</td>\n",
       "      <td>The Lone Ranger</td>\n",
       "      <td>Johnny Depp|Armie Hammer|William Fichtner|Hele...</td>\n",
       "      <td>Gore Verbinski</td>\n",
       "      <td>Never Take Off the Mask</td>\n",
       "      <td>The Texas Rangers chase down a gang of outlaws...</td>\n",
       "      <td>149</td>\n",
       "      <td>Action|Adventure|Western</td>\n",
       "      <td>Walt Disney Pictures|Jerry Bruckheimer Films|I...</td>\n",
       "      <td>2013-07-03</td>\n",
       "      <td>6.0</td>\n",
       "      <td>2013</td>\n",
       "      <td>-165710090</td>\n",
       "    </tr>\n",
       "  </tbody>\n",
       "</table>\n",
       "</div>"
      ],
      "text/plain": [
       "        imdb_id     budget   revenue   original_title  \\\n",
       "1245  tt1210819  255000000  89289910  The Lone Ranger   \n",
       "\n",
       "                                                   cast        director  \\\n",
       "1245  Johnny Depp|Armie Hammer|William Fichtner|Hele...  Gore Verbinski   \n",
       "\n",
       "                      tagline  \\\n",
       "1245  Never Take Off the Mask   \n",
       "\n",
       "                                               overview  runtime  \\\n",
       "1245  The Texas Rangers chase down a gang of outlaws...      149   \n",
       "\n",
       "                        genres  \\\n",
       "1245  Action|Adventure|Western   \n",
       "\n",
       "                                   production_companies release_date  \\\n",
       "1245  Walt Disney Pictures|Jerry Bruckheimer Films|I...   2013-07-03   \n",
       "\n",
       "      vote_average  release_year     profit  \n",
       "1245           6.0          2013 -165710090  "
      ]
     },
     "execution_count": 22,
     "metadata": {},
     "output_type": "execute_result"
    }
   ],
   "source": [
    "data.query('release_year>=2012 & release_year<=2014').query('profit == profit.min()')"
   ]
  },
  {
   "cell_type": "markdown",
   "metadata": {
    "colab_type": "text",
    "id": "EA7Sa9dkVp_I"
   },
   "source": [
    "# 11. Какого жанра фильмов больше всего?"
   ]
  },
  {
   "cell_type": "code",
   "execution_count": 89,
   "metadata": {},
   "outputs": [],
   "source": [
    "answers['11'] = '3. Drama'"
   ]
  },
  {
   "cell_type": "code",
   "execution_count": 66,
   "metadata": {},
   "outputs": [
    {
     "data": {
      "text/plain": [
       "'Drama'"
      ]
     },
     "execution_count": 66,
     "metadata": {},
     "output_type": "execute_result"
    }
   ],
   "source": [
    "# Для каждого значения в колонке Жанр делаем список из строки используя разделитель '|'\n",
    "# Взрываем DF по Жанру получая новые строки в DF с единичным занчением жанра\n",
    "# Подсчитываем количество строк по каждому уникальному жанру в DF\n",
    "data.genres.str.split('|').explode().value_counts()"
   ]
  },
  {
   "cell_type": "markdown",
   "metadata": {},
   "source": [
    "Вариант 2"
   ]
  },
  {
   "cell_type": "code",
   "execution_count": 35,
   "metadata": {},
   "outputs": [
    {
     "data": {
      "text/plain": [
       "[('Drama', 782),\n",
       " ('Comedy', 683),\n",
       " ('Thriller', 596),\n",
       " ('Action', 582),\n",
       " ('Adventure', 415),\n",
       " ('Crime', 315),\n",
       " ('Romance', 308),\n",
       " ('Family', 260),\n",
       " ('Science Fiction', 248),\n",
       " ('Fantasy', 222)]"
      ]
     },
     "execution_count": 35,
     "metadata": {},
     "output_type": "execute_result"
    }
   ],
   "source": [
    "# Составляем строку из всех значений Жанр в DF\n",
    "# Делаем из строки список используя тот же разделитель\n",
    "# Подсчитываем количество вхождений каждого уникального элеметна списка\n",
    "Counter(data.genres.str.cat(sep='|').split('|')).most_common(10)"
   ]
  },
  {
   "cell_type": "markdown",
   "metadata": {},
   "source": [
    "Вариант 3"
   ]
  },
  {
   "cell_type": "code",
   "execution_count": 36,
   "metadata": {},
   "outputs": [
    {
     "data": {
      "text/plain": [
       "[('Drama', 782),\n",
       " ('Comedy', 683),\n",
       " ('Thriller', 596),\n",
       " ('Action', 582),\n",
       " ('Adventure', 415),\n",
       " ('Crime', 315),\n",
       " ('Romance', 308),\n",
       " ('Family', 260),\n",
       " ('Science Fiction', 248),\n",
       " ('Fantasy', 222)]"
      ]
     },
     "execution_count": 36,
     "metadata": {},
     "output_type": "execute_result"
    }
   ],
   "source": [
    "# То же решение что и в Варианте 2, только без Панды\n",
    "\n",
    "genres=[]\n",
    "for i in data.index:\n",
    "    s = data.genres[i].split('|')\n",
    "    for genre in s:\n",
    "        genres.append(genre)\n",
    "Counter(genres).most_common(10)\n"
   ]
  },
  {
   "cell_type": "markdown",
   "metadata": {
    "colab_type": "text",
    "id": "Ax6g2C8SVp_M"
   },
   "source": [
    "ВАРИАНТ 4"
   ]
  },
  {
   "cell_type": "code",
   "execution_count": 37,
   "metadata": {
    "colab": {},
    "colab_type": "code",
    "id": "otO3SbrSVp_N"
   },
   "outputs": [
    {
     "name": "stdout",
     "output_type": "stream",
     "text": [
      "{'Action': 582, 'Adventure': 415, 'Science Fiction': 248, 'Thriller': 596, 'Fantasy': 222, 'Crime': 315, 'Western': 19, 'Drama': 782, 'Family': 260, 'Animation': 139, 'Comedy': 683, 'Mystery': 168, 'Romance': 308, 'War': 58, 'History': 62, 'Music': 64, 'Horror': 176, 'Documentary': 8, 'Foreign': 2}\n"
     ]
    }
   ],
   "source": [
    "# Чтобы не забыть Модуль 0\n",
    "s = data.genres.apply(lambda x: x.split('|'))\n",
    "\n",
    "genre_counter={}\n",
    "for i in data.index:\n",
    "    for genre in s[i]:\n",
    "        if genre in genre_counter.keys():\n",
    "            genre_counter[genre]+=1\n",
    "        else:\n",
    "            genre_counter.setdefault(genre,1)\n",
    "print(genre_counter)  "
   ]
  },
  {
   "cell_type": "markdown",
   "metadata": {
    "colab_type": "text",
    "id": "T9_bPWpkVp_Q"
   },
   "source": [
    "# 12. Фильмы какого жанра чаще всего становятся прибыльными? "
   ]
  },
  {
   "cell_type": "code",
   "execution_count": 90,
   "metadata": {
    "colab": {},
    "colab_type": "code",
    "id": "Tmt8MaK1Vp_R"
   },
   "outputs": [],
   "source": [
    "answers['12'] = '1. Drama'"
   ]
  },
  {
   "cell_type": "code",
   "execution_count": 77,
   "metadata": {},
   "outputs": [
    {
     "data": {
      "text/plain": [
       "Drama              560\n",
       "Comedy             551\n",
       "Thriller           446\n",
       "Action             444\n",
       "Adventure          337\n",
       "Romance            242\n",
       "Crime              231\n",
       "Family             226\n",
       "Science Fiction    195\n",
       "Fantasy            188\n",
       "Horror             150\n",
       "Animation          120\n",
       "Mystery            119\n",
       "Music               47\n",
       "History             46\n",
       "War                 41\n",
       "Western             12\n",
       "Documentary          7\n",
       "Name: genres, dtype: int64"
      ]
     },
     "execution_count": 77,
     "metadata": {},
     "output_type": "execute_result"
    }
   ],
   "source": [
    "# Отсекаем только прибыльные фильмы, делим жанры и взрываем на строки с одним жанром\n",
    "# Подсчитываем количество входждений каждого уникального жанра \n",
    "data[data.profit>0].genres.str.split('|').explode().value_counts()"
   ]
  },
  {
   "cell_type": "markdown",
   "metadata": {},
   "source": [
    "Вариант 2"
   ]
  },
  {
   "cell_type": "code",
   "execution_count": 76,
   "metadata": {
    "scrolled": true
   },
   "outputs": [
    {
     "data": {
      "text/plain": [
       "[('Drama', 560),\n",
       " ('Comedy', 551),\n",
       " ('Thriller', 446),\n",
       " ('Action', 444),\n",
       " ('Adventure', 337)]"
      ]
     },
     "execution_count": 76,
     "metadata": {},
     "output_type": "execute_result"
    }
   ],
   "source": [
    "# То же что и в первом варианте только через словарь\n",
    "data2=data[data.profit>0]\n",
    "genres=[]\n",
    "for i in data2.index:\n",
    "    s = data2.genres[i].split('|')\n",
    "    for genre in s:\n",
    "        genres.append(genre)\n",
    "Counter(genres).most_common(5)"
   ]
  },
  {
   "cell_type": "markdown",
   "metadata": {
    "colab_type": "text",
    "id": "0F23bgsDVp_U"
   },
   "source": [
    "# 13. У какого режиссера самые большие суммарные кассовые сборы?"
   ]
  },
  {
   "cell_type": "code",
   "execution_count": 91,
   "metadata": {
    "colab": {},
    "colab_type": "code",
    "id": "K6Z3J8ygVp_X"
   },
   "outputs": [],
   "source": [
    "answers['13'] = '5. Peter Jackson'"
   ]
  },
  {
   "cell_type": "code",
   "execution_count": 92,
   "metadata": {},
   "outputs": [
    {
     "data": {
      "text/plain": [
       "director\n",
       "Peter Jackson        6490593685\n",
       "Christopher Nolan    4167548502\n",
       "David Yates          4154295625\n",
       "Michael Bay          3886938960\n",
       "J.J. Abrams          3579169916\n",
       "Name: revenue, dtype: int64"
      ]
     },
     "execution_count": 92,
     "metadata": {},
     "output_type": "execute_result"
    }
   ],
   "source": [
    "# Группируем строки по Директору и для колонки Сборы применяем суммирование. Сортируем\n",
    "data.groupby(['director']).revenue.sum().sort_values(ascending=False).head(5)"
   ]
  },
  {
   "cell_type": "markdown",
   "metadata": {
    "colab_type": "text",
    "id": "PsYC9FgRVp_a"
   },
   "source": [
    "# 14. Какой режисер снял больше всего фильмов в стиле Action?"
   ]
  },
  {
   "cell_type": "code",
   "execution_count": 49,
   "metadata": {
    "colab": {},
    "colab_type": "code",
    "id": "wd2M-wHeVp_b"
   },
   "outputs": [],
   "source": [
    "answers['14'] = '3. Robert Rodriguez'"
   ]
  },
  {
   "cell_type": "code",
   "execution_count": 93,
   "metadata": {},
   "outputs": [
    {
     "data": {
      "text/plain": [
       "Robert Rodriguez                    9\n",
       "Michael Bay                         7\n",
       "Paul W.S. Anderson                  7\n",
       "Antoine Fuqua                       6\n",
       "Ridley Scott                        6\n",
       "                                   ..\n",
       "Denis Villeneuve                    1\n",
       "Michael Spierig                     1\n",
       "Florian Henckel von Donnersmarck    1\n",
       "Tarsem Singh                        1\n",
       "Jan de Bont                         1\n",
       "Name: director, Length: 364, dtype: int64"
      ]
     },
     "execution_count": 93,
     "metadata": {},
     "output_type": "execute_result"
    }
   ],
   "source": [
    "# Отсекаем только фильмы содержащие жанр Action.\n",
    "# Делим режиссеров(их в обем случае не один), взрываем до одного режиссера в строке и подсчитываем\n",
    "data[data.genres.str.contains('Action')].director.str.split('|').explode().value_counts()"
   ]
  },
  {
   "cell_type": "markdown",
   "metadata": {},
   "source": [
    "Варинат 2"
   ]
  },
  {
   "cell_type": "code",
   "execution_count": 38,
   "metadata": {},
   "outputs": [
    {
     "data": {
      "text/plain": [
       "[('Robert Rodriguez', 9),\n",
       " ('Michael Bay', 7),\n",
       " ('Paul W.S. Anderson', 7),\n",
       " ('Antoine Fuqua', 6),\n",
       " ('Ridley Scott', 6)]"
      ]
     },
     "execution_count": 38,
     "metadata": {},
     "output_type": "execute_result"
    }
   ],
   "source": [
    "directors=[]\n",
    "\n",
    "for i in data.index:\n",
    "    if 'Action' in data.genres[i]:\n",
    "        if '|' in data.director[i]:\n",
    "            s = data.director[i].split('|')\n",
    "            for director in s:\n",
    "                directors.append(director)\n",
    "        else:\n",
    "            directors.append(data.director[i])\n",
    "Counter(directors).most_common(5)"
   ]
  },
  {
   "cell_type": "markdown",
   "metadata": {
    "colab_type": "text",
    "id": "PQ0KciD7Vp_f"
   },
   "source": [
    "# 15. Фильмы с каким актером принесли самые высокие кассовые сборы в 2012 году? "
   ]
  },
  {
   "cell_type": "code",
   "execution_count": 52,
   "metadata": {
    "colab": {},
    "colab_type": "code",
    "id": "aga62oeKVp_g"
   },
   "outputs": [],
   "source": [
    "answers['15'] = '3. Chris Hemsworth'"
   ]
  },
  {
   "cell_type": "code",
   "execution_count": 19,
   "metadata": {},
   "outputs": [
    {
     "data": {
      "text/plain": [
       "cast\n",
       "Chris Hemsworth        2027450773\n",
       "Denis Leary            1629460639\n",
       "Anne Hathaway          1522851057\n",
       "Chris Evans            1519557910\n",
       "Robert Downey Jr.      1519557910\n",
       "Mark Ruffalo           1519557910\n",
       "Scarlett Johansson     1519557910\n",
       "Ralph Fiennes          1409561013\n",
       "Sacha Baron Cohen      1368110577\n",
       "Kristen Stewart        1234384318\n",
       "Emma Thompson          1163009983\n",
       "Tom Hardy              1134717867\n",
       "Seann William Scott    1112234366\n",
       "Judi Dench             1108561013\n",
       "Daniel Craig           1108561013\n",
       "Naomie Harris          1108561013\n",
       "Javier Bardem          1108561013\n",
       "Josh Hutcherson        1091710235\n",
       "Gary Oldman            1081041287\n",
       "Christian Bale         1081041287\n",
       "Name: revenue, dtype: int64"
      ]
     },
     "execution_count": 19,
     "metadata": {},
     "output_type": "execute_result"
    }
   ],
   "source": [
    "# Делаем копию оригинального датафрейма\n",
    "# Значение в колонке актеров приводим к списку\n",
    "# Обрезаем фрейм до фильмов 2012 года\n",
    "# Взрываем до одного актера, группируем по актерам и суммируем сборы. Сортируем \n",
    "data2=data.copy()\n",
    "data2.cast = data2.cast.str.split('|')\n",
    "data2[data.release_year==2012].explode('cast').groupby(['cast']).revenue.sum().sort_values(ascending=False).head(20)"
   ]
  },
  {
   "cell_type": "markdown",
   "metadata": {},
   "source": [
    "Вариант 2"
   ]
  },
  {
   "cell_type": "code",
   "execution_count": 44,
   "metadata": {},
   "outputs": [
    {
     "data": {
      "text/plain": [
       "actor\n",
       "Chris Hemsworth        2027450773\n",
       "Denis Leary            1629460639\n",
       "Anne Hathaway          1522851057\n",
       "Chris Evans            1519557910\n",
       "Robert Downey Jr.      1519557910\n",
       "Mark Ruffalo           1519557910\n",
       "Scarlett Johansson     1519557910\n",
       "Ralph Fiennes          1409561013\n",
       "Sacha Baron Cohen      1368110577\n",
       "Kristen Stewart        1234384318\n",
       "Emma Thompson          1163009983\n",
       "Tom Hardy              1134717867\n",
       "Seann William Scott    1112234366\n",
       "Judi Dench             1108561013\n",
       "Daniel Craig           1108561013\n",
       "Naomie Harris          1108561013\n",
       "Javier Bardem          1108561013\n",
       "Josh Hutcherson        1091710235\n",
       "Gary Oldman            1081041287\n",
       "Christian Bale         1081041287\n",
       "Name: revenue, dtype: int64"
      ]
     },
     "execution_count": 44,
     "metadata": {},
     "output_type": "execute_result"
    }
   ],
   "source": [
    "# Формируем новый датафрейм из усечения исходного до фильмов 2012\n",
    "# Из фильмов 2012 формируем ноывй датафрейм с фильмами где cast разбит до одного актера в ручную\n",
    "# Группируем по актеру и суммируем сборы. Сортируем\n",
    "# Очень долго работает ((. Тут я понял что хватит писать циклы должно быть что-то встроенное и нашел explode()\n",
    "# И это действительно взрыв. Зато повторил нулевой модуль и переписал предыдущие задания!\n",
    "\n",
    "data2 = data[data.release_year==2012]\n",
    "data3 = pd.DataFrame(columns = ['actor', 'revenue', 'original_title'])\n",
    "data3_index=0\n",
    "for i in data2.index:\n",
    "    cast = data2.cast[i].split('|')\n",
    "    for actor in cast:\n",
    "        data3.loc[data3_index] = [actor,data2.revenue[i],data2.original_title[i]]\n",
    "        data3_index+=1\n",
    "data3.groupby(['actor']).revenue.sum().sort_values(ascending=False).head(20)"
   ]
  },
  {
   "cell_type": "markdown",
   "metadata": {},
   "source": [
    "Варинат 3"
   ]
  },
  {
   "cell_type": "code",
   "execution_count": 43,
   "metadata": {},
   "outputs": [
    {
     "data": {
      "text/plain": [
       "[('Chris Hemsworth', 2027450773),\n",
       " ('Denis Leary', 1629460639),\n",
       " ('Anne Hathaway', 1522851057),\n",
       " ('Robert Downey Jr.', 1519557910),\n",
       " ('Chris Evans', 1519557910),\n",
       " ('Mark Ruffalo', 1519557910),\n",
       " ('Scarlett Johansson', 1519557910),\n",
       " ('Ralph Fiennes', 1409561013),\n",
       " ('Sacha Baron Cohen', 1368110577),\n",
       " ('Kristen Stewart', 1234384318),\n",
       " ('Emma Thompson', 1163009983),\n",
       " ('Tom Hardy', 1134717867),\n",
       " ('Seann William Scott', 1112234366),\n",
       " ('Daniel Craig', 1108561013),\n",
       " ('Judi Dench', 1108561013),\n",
       " ('Javier Bardem', 1108561013),\n",
       " ('Naomie Harris', 1108561013),\n",
       " ('Josh Hutcherson', 1091710235),\n",
       " ('Christian Bale', 1081041287),\n",
       " ('Michael Caine', 1081041287),\n",
       " ('Gary Oldman', 1081041287),\n",
       " ('Ian McKellen', 1017003568),\n",
       " ('Martin Freeman', 1017003568),\n",
       " ('Richard Armitage', 1017003568),\n",
       " ('Andy Serkis', 1017003568),\n",
       " ('Cate Blanchett', 1017003568),\n",
       " ('John Leguizamo', 914138503),\n",
       " ('Jennifer Lawrence', 896949406),\n",
       " ('Ray Romano', 877244782),\n",
       " ('Chris Wedge', 877244782),\n",
       " ('Robert Pattinson', 835063556),\n",
       " ('Elizabeth Banks', 829566659),\n",
       " ('Taylor Lautner', 829000000),\n",
       " ('Peter Facinelli', 829000000),\n",
       " ('Elizabeth Reaser', 829000000),\n",
       " ('Rhys Ifans', 806125608),\n",
       " ('Charlize Theron', 799770142),\n",
       " ('Frances McDormand', 755060062),\n",
       " ('Andrew Garfield', 752215857),\n",
       " ('Emma Stone', 752215857),\n",
       " ('Martin Sheen', 752215857),\n",
       " ('Hugh Jackman', 748751440),\n",
       " ('Ben Stiller', 746921274),\n",
       " ('David Schwimmer', 746921274),\n",
       " ('Chris Rock', 746921274),\n",
       " ('Tommy Lee Jones', 738307827),\n",
       " ('Woody Harrelson', 710632953),\n",
       " ('Liam Hemsworth', 691210692),\n",
       " ('Liam Neeson', 677141306),\n",
       " ('Taylor Kitsch', 634164585),\n",
       " ('Will Smith', 624026776),\n",
       " ('Josh Brolin', 624026776),\n",
       " ('Michael Stuhlbarg', 624026776),\n",
       " ('Mark Wahlberg', 612468315),\n",
       " ('Giovanni Ribisi', 612468315),\n",
       " ('Suraj Sharma', 609016565),\n",
       " ('Irrfan Khan', 609016565),\n",
       " ('Ayush Tandon', 609016565),\n",
       " ('Gautam Belur', 609016565),\n",
       " ('Adil Hussain', 609016565),\n",
       " ('Billy Connolly', 598503505),\n",
       " ('Channing Tatum', 598294075),\n",
       " ('Mila Kunis', 549368315),\n",
       " ('Seth MacFarlane', 549368315),\n",
       " ('Joel McHale', 549368315),\n",
       " ('Bryan Cranston', 540910192),\n",
       " ('Kelly Macdonald', 538983207),\n",
       " ('Julie Walters', 538983207),\n",
       " ('Kevin McKidd', 538983207),\n",
       " ('Jane Lynch', 526042190),\n",
       " ('Rosamund Pike', 519340595),\n",
       " ('Guy Pearce', 489050752),\n",
       " ('John C. Reilly', 471222889),\n",
       " ('Sarah Silverman', 471222889),\n",
       " ('Jack McBrayer', 471222889),\n",
       " ('Jamie Elman', 471222889),\n",
       " ('Bruce Willis', 449378341),\n",
       " ('Kerry Washington', 447412515),\n",
       " ('Russell Crowe', 441809770),\n",
       " ('Amanda Seyfried', 441809770),\n",
       " ('Michael Fassbender', 436542748),\n",
       " ('Jamie Foxx', 425368238),\n",
       " ('Christoph Waltz', 425368238),\n",
       " ('Leonardo DiCaprio', 425368238),\n",
       " ('Samuel L. Jackson', 425368238),\n",
       " ('Mark Strong', 416959816),\n",
       " ('Adam Sandler', 416433970),\n",
       " ('CiarÃ¡n Hinds', 411869836),\n",
       " ('Maggie Grace', 408345336),\n",
       " ('Noomi Rapace', 403170142),\n",
       " ('Idris Elba', 403170142),\n",
       " ('Sam Claflin', 396600000),\n",
       " ('Ian McShane', 396600000),\n",
       " ('Kate Beckinsale', 394302074),\n",
       " ('Brooklyn Decker', 382725485),\n",
       " ('Famke Janssen', 376141306),\n",
       " ('Rade Serbedzija', 376141306),\n",
       " ('Luke Grimes', 376141306),\n",
       " ('Alec Baldwin', 366360283),\n",
       " ('Steve Buscemi', 358375603),\n",
       " ('David Spade', 358375603),\n",
       " ('Kevin James', 358375603),\n",
       " ('Selena Gomez', 358375603),\n",
       " ('Brendan Gleeson', 356072317),\n",
       " ('Dwayne Johnson', 355692760),\n",
       " ('Kristin Davis', 355692760),\n",
       " ('Vanessa Hudgens', 355692760),\n",
       " ('Luis GuzmÃ¡n', 355692760),\n",
       " ('Jason Statham', 352919609),\n",
       " ('Anna Kendrick', 350316209),\n",
       " ('Zac Efron', 348840316),\n",
       " ('Danny DeVito', 348840316),\n",
       " ('Taylor Swift', 348840316),\n",
       " ('Ed Helms', 348840316),\n",
       " ('Rob Riggle', 348840316),\n",
       " ('Sam Worthington', 347221189),\n",
       " ('Edward Norton', 344836104),\n",
       " ('Chris Pine', 319376448),\n",
       " ('Sylvester Stallone', 312573423),\n",
       " ('Dolph Lundgren', 312573423),\n",
       " ('Arnold Schwarzenegger', 312573423),\n",
       " ('Jude Law', 306941670),\n",
       " ('Isla Fisher', 306941670),\n",
       " ('Alexander SkarsgÃ¥rd', 303025485),\n",
       " ('Rihanna', 303025485),\n",
       " ('Tadanobu Asano', 303025485),\n",
       " ('Edgar RamÃ\\xadrez', 301000000),\n",
       " ('Lynn Collins', 284139100),\n",
       " ('Willem Dafoe', 284139100),\n",
       " ('Tom Cruise', 277759208),\n",
       " ('Jeremy Renner', 276572938),\n",
       " ('Rachel Weisz', 276572938),\n",
       " ('Scott Glenn', 276572938),\n",
       " ('Stacy Keach', 276572938),\n",
       " ('David Oyelowo', 268705972),\n",
       " ('Megan Fox', 267438319),\n",
       " ('Michelle Pfeiffer', 257961927),\n",
       " ('Johnny Depp', 245527149),\n",
       " ('Helena Bonham Carter', 245527149),\n",
       " ('Jackie Earle Haley', 245527149),\n",
       " ('Jonny Lee Miller', 245527149),\n",
       " ('Milla Jovovich', 240159255),\n",
       " ('Sienna Guillory', 240159255),\n",
       " ('Michelle Rodriguez', 240159255),\n",
       " ('Aryana Engineer', 240159255),\n",
       " ('Li Bingbing', 240159255),\n",
       " ('Jason Biggs', 234989584),\n",
       " ('Alyson Hannigan', 234989584),\n",
       " ('Chris Klein', 234989584),\n",
       " ('Thomas Ian Nicholas', 234989584),\n",
       " ('Ben Affleck', 232324128),\n",
       " ('Alan Arkin', 232324128),\n",
       " ('John Goodman', 232324128),\n",
       " ('Victor Garber', 232324128),\n",
       " ('Michael Ealy', 228470507),\n",
       " ('Bradley Cooper', 218970175),\n",
       " ('Richard Jenkins', 218340595),\n",
       " ('Werner Herzog', 218340595),\n",
       " ('Colin Farrell', 218224335),\n",
       " ('Ewan McGregor', 213646729),\n",
       " ('Denzel Washington', 208076205),\n",
       " ('Ryan Reynolds', 208076205),\n",
       " ('Vera Farmiga', 208076205),\n",
       " ('Joel Kinnaman', 208076205),\n",
       " ('Robert De Niro', 205738714),\n",
       " ('Jacki Weaver', 205738714),\n",
       " ('Chris Tucker', 205738714),\n",
       " ('Jonah Hill', 201585328),\n",
       " ('Brie Larson', 201585328),\n",
       " ('Dave Franco', 201585328),\n",
       " ('Ellie Kemper', 201585328),\n",
       " ('Jessica Biel', 198802074),\n",
       " ('Bill Nighy', 198802074),\n",
       " ('Rachel McAdams', 196114570),\n",
       " ('Sam Neill', 196114570),\n",
       " ('Scott Speedman', 196114570),\n",
       " ('Jessica Lange', 196114570),\n",
       " ('Chris Pratt', 186730467),\n",
       " ('Jessica Chastain', 186497296),\n",
       " ('Julia Roberts', 183018522),\n",
       " ('Lily Collins', 183018522),\n",
       " ('Armie Hammer', 183018522),\n",
       " ('Nathan Lane', 183018522),\n",
       " ('Martin Klebba', 183018522),\n",
       " ('Naomi Watts', 180274123),\n",
       " ('Tom Holland', 180274123),\n",
       " ('Samuel Joslin', 180274123),\n",
       " ('Oaklee Pendergast', 180274123),\n",
       " ('Sayed Badreya', 179379533),\n",
       " ('Aasif Mandvi', 179379533),\n",
       " ('Anna Faris', 179379533),\n",
       " ('Matthew McConaughey', 167221571),\n",
       " ('Olivia Munn', 167221571),\n",
       " ('Cody Horn', 167221571),\n",
       " ('Alex Pettyfer', 167221571),\n",
       " ('Salma Hayek', 165338361),\n",
       " ('Paul Rudd', 145618720),\n",
       " ('Dane DeHaan', 145000000),\n",
       " ('Alex Russell', 145000000),\n",
       " ('Michael B. Jordan', 145000000),\n",
       " ('Michael Kelly', 145000000),\n",
       " ('Anna Wood', 145000000),\n",
       " ('Katie Featherston', 142817992),\n",
       " ('Kathryn Newton', 142817992),\n",
       " ('Matt Shively', 142817992),\n",
       " ('Brady Allen', 142817992),\n",
       " ('Sprague Grayden', 142817992),\n",
       " ('Jason Segel', 141968537),\n",
       " ('Kathryn McCormick', 140470746),\n",
       " ('Ryan Guzman', 140470746),\n",
       " ('Stephen Boss', 140470746),\n",
       " ('Megan Boone', 140470746),\n",
       " ('Jessica Guadix', 140470746),\n",
       " ('Jim Sturgess', 138589343),\n",
       " ('Jason Clarke', 132820716),\n",
       " ('Joel Edgerton', 132820716),\n",
       " ('Stephen Rea', 132400000),\n",
       " ('Theo James', 132400000),\n",
       " ('India Eisley', 132400000),\n",
       " ('Tom Hanks', 130482868),\n",
       " ('Halle Berry', 130482868),\n",
       " ('Jim Broadbent', 130482868),\n",
       " ('Hugo Weaving', 130482868),\n",
       " ('Jeffrey Dean Morgan', 130252858),\n",
       " ('Daniel Radcliffe', 127730736),\n",
       " ('Sidney Johnston', 127730736),\n",
       " ('Alisa Khazanova', 127730736),\n",
       " ('Mary Stockley', 127730736),\n",
       " ('Billy Crystal', 119772232),\n",
       " ('Bette Midler', 119772232),\n",
       " ('Marisa Tomei', 119772232),\n",
       " ('Tom Everett Scott', 119772232),\n",
       " ('Bailee Madison', 119772232),\n",
       " ('Hugh Grant', 118338361),\n",
       " ('Jeremy Piven', 118338361),\n",
       " ('Brian Blessed', 118338361),\n",
       " ('Skylar Astin', 115350426),\n",
       " ('Brittany Snow', 115350426),\n",
       " ('Anna Camp', 115350426),\n",
       " ('Rebel Wilson', 115350426),\n",
       " ('Meryl Streep', 114281051),\n",
       " ('Steve Carell', 114281051),\n",
       " ('Jean Smart', 114281051),\n",
       " ('Marin Ireland', 114281051),\n",
       " ('Benjamin Walker', 112265139),\n",
       " ('Dominic Cooper', 112265139),\n",
       " ('Anthony Mackie', 112265139),\n",
       " ('Mary Elizabeth Winstead', 112265139),\n",
       " ('Rufus Sewell', 112265139),\n",
       " ('Kodi Smit-McPhee', 107139399),\n",
       " ('Tucker Albrizzi', 107139399),\n",
       " ('Jodelle Ferland', 107139399),\n",
       " ('Casey Affleck', 107139399),\n",
       " ('Emily Blunt', 100951751),\n",
       " ('Oliver Cooper', 100000000),\n",
       " ('Jonathan Daniel Brown', 100000000),\n",
       " ('Thomas Mann', 100000000),\n",
       " ('Dax Flame', 100000000),\n",
       " ('Kirby Bliss Blanton', 100000000),\n",
       " ('Jerry Ferrara', 96070507),\n",
       " ('Meagan Good', 96070507),\n",
       " ('Regina Hall', 96070507),\n",
       " ('Kevin Hart', 96070507),\n",
       " ('Susan Sarandon', 93543423),\n",
       " ('Leslie Mann', 88058786),\n",
       " ('Maude Apatow', 88058786),\n",
       " ('Natasha Calis', 85446075),\n",
       " ('Madison Davenport', 85446075),\n",
       " ('Kyra Sedgwick', 85446075),\n",
       " ('Rob LaBelle', 85446075),\n",
       " ('Charlie Tahan', 81491068),\n",
       " ('Winona Ryder', 81491068),\n",
       " (\"Catherine O'Hara\", 81491068),\n",
       " ('Martin Short', 81491068),\n",
       " ('Martin Landau', 81491068),\n",
       " ('Roselyn SÃ¡nchez', 81272766),\n",
       " ('Emilio Rivera', 81272766),\n",
       " ('Nestor Serrano', 81272766),\n",
       " ('Gonzalo Menendez', 81272766),\n",
       " ('Alexander Asefa', 81272766),\n",
       " ('Cameron Diaz', 79700000),\n",
       " ('Jennifer Lopez', 79700000),\n",
       " ('Joseph Gordon-Levitt', 78125599),\n",
       " ('Devon Bostick', 77112176),\n",
       " ('Steve Zahn', 77112176),\n",
       " ('Peyton List', 77112176),\n",
       " ('Rachael Harris', 77112176),\n",
       " ('Zachary Gordon', 77112176),\n",
       " ('Jared Gilman', 68263166),\n",
       " ('Kara Hayward', 68263166),\n",
       " ('Bill Murray', 68263166),\n",
       " ('Kristen Connolly', 66486080),\n",
       " ('Anna Hutchison', 66486080),\n",
       " ('Fran Kranz', 66486080),\n",
       " ('Jesse Williams', 66486080),\n",
       " ('Ben Foster', 63100000),\n",
       " ('J.K. Simmons', 63100000),\n",
       " ('Maggie Smith', 59520298),\n",
       " ('Tom Courtenay', 59520298),\n",
       " ('Pauline Collins', 59520298),\n",
       " ('Michael Gambon', 59520298),\n",
       " ('Diego Boneta', 59418613),\n",
       " ('Julianne Hough', 59418613),\n",
       " ('Eva Amurri Martino', 58058367),\n",
       " ('Leighton Meester', 58058367),\n",
       " ('Andy Samberg', 58058367),\n",
       " ('Sean Hayes', 54819301),\n",
       " ('Will Sasso', 54819301),\n",
       " ('Chris Diamantopoulos', 54819301),\n",
       " ('SofÃ\\xada Vergara', 54819301),\n",
       " ('Alison Brie', 53909751),\n",
       " ('Shia LaBeouf', 53676580),\n",
       " ('Mia Wasikowska', 53676580),\n",
       " ('Adelaide Clemens', 52302796),\n",
       " ('Kit Harington', 52302796),\n",
       " ('Sean Bean', 52302796),\n",
       " ('Carrie-Anne Moss', 52302796),\n",
       " ('Radha Mitchell', 52302796),\n",
       " ('Cuba Gooding Jr.', 50365377),\n",
       " ('Daniela Ruah', 50365377),\n",
       " ('Terrence Howard', 50365377),\n",
       " ('Jake Gyllenhaal', 48126384),\n",
       " ('Michael PeÃ±a', 48126384),\n",
       " ('Natalie Martinez', 48126384),\n",
       " ('David Harbour', 48126384),\n",
       " ('Paul Dano', 47042000),\n",
       " ('Noah Segan', 47042000),\n",
       " ('Blake Lively', 47000000),\n",
       " ('Aaron Taylor-Johnson', 47000000),\n",
       " ('Benicio del Toro', 47000000),\n",
       " ('Jamie Bell', 46221189),\n",
       " ('Ed Harris', 46221189),\n",
       " ('Edward Burns', 46221189),\n",
       " ('Isabel Lucas', 44806783),\n",
       " ('Adrianne Palicki', 44806783),\n",
       " ('Karl Urban', 41037742),\n",
       " ('Olivia Thirlby', 41037742),\n",
       " ('Lena Headey', 41037742),\n",
       " ('Wood Harris', 41037742),\n",
       " ('Jason Cope', 41037742),\n",
       " ('Chris Sarandon', 40346186),\n",
       " ('James Hong', 40346186),\n",
       " ('Catherine Chan', 40346186),\n",
       " ('Robert John Burke', 40346186),\n",
       " ('Brad Pitt', 37930465),\n",
       " ('Scoot McNairy', 37930465),\n",
       " ('Ben Mendelsohn', 37930465),\n",
       " ('James Gandolfini', 37930465),\n",
       " ('Ray Liotta', 37930465),\n",
       " ('Katherine Heigl', 36893721),\n",
       " ('Debbie Reynolds', 36893721),\n",
       " ('Sherri Shepherd', 36893721),\n",
       " ('Patrick Fischler', 36893721),\n",
       " ('Richard Gere', 35485056),\n",
       " ('Tim Roth', 35485056),\n",
       " ('Brit Marling', 35485056),\n",
       " ('Monica Raymund', 35485056),\n",
       " ('Logan Lerman', 33400000),\n",
       " ('Emma Watson', 33400000),\n",
       " ('Ezra Miller', 33400000),\n",
       " ('Nina Dobrev', 33400000),\n",
       " ('Gina Carano', 33372606),\n",
       " ('Bill Paxton', 33372606),\n",
       " ('John Krasinski', 32858003),\n",
       " ('Katy Perry', 32726956),\n",
       " ('Russell Brand', 32726956),\n",
       " ('Shannon Woodward', 32726956),\n",
       " ('Rachael Markarian', 32726956),\n",
       " ('Mia Moretti', 32726956),\n",
       " ('Joseph Gilgun', 32204030),\n",
       " ('Lennie James', 32204030),\n",
       " ('Peter Stormare', 32204030),\n",
       " ('Michael Shannon', 31083599),\n",
       " ('Dania Ramirez', 31083599),\n",
       " ('Jamie Chung', 31083599),\n",
       " ('WolÃ© Parks', 31083599),\n",
       " ('Tyler Perry', 30353232),\n",
       " ('Rachel Nichols', 30353232),\n",
       " ('Jean Reno', 30353232),\n",
       " ('Matthew Fox', 30353232),\n",
       " ('Giancarlo Esposito', 30353232),\n",
       " ('John Cusack', 29657751),\n",
       " ('Luke Evans', 29657751),\n",
       " ('Alice Eve', 29657751),\n",
       " ('Kevin McNally', 29657751),\n",
       " ('Joaquin Phoenix', 28258060),\n",
       " ('Philip Seymour Hoffman', 28258060),\n",
       " ('Amy Adams', 28258060),\n",
       " ('Laura Dern', 28258060),\n",
       " ('Jesse Plemons', 28258060),\n",
       " ('Malin Ã…kerman', 26266491),\n",
       " ('Olivia Wilde', 25666239),\n",
       " ('Drew Barrymore', 24719215),\n",
       " ('Kristen Bell', 24719215),\n",
       " ('Vinessa Shaw', 24719215),\n",
       " ('Dermot Mulroney', 24719215),\n",
       " ('Whitney Houston', 24637469),\n",
       " ('Cee Lo Green', 24637469),\n",
       " ('Derek Luke', 24637469),\n",
       " ('Mike Epps', 24637469),\n",
       " ('Carmen Ejogo', 24637469),\n",
       " ('Jennifer Aniston', 24159934),\n",
       " ('Justin Theroux', 24159934),\n",
       " ('Lauren Ambrose', 24159934),\n",
       " ('Eddie Murphy', 22044277),\n",
       " ('Allison Janney', 22044277),\n",
       " ('Cliff Curtis', 22044277),\n",
       " ('Clark Duke', 22044277),\n",
       " ('Sam Rockwell', 19422261),\n",
       " ('Christopher Walken', 19422261),\n",
       " ('Abbie Cornish', 19422261),\n",
       " ('Kirsten Dunst', 16890793),\n",
       " ('Henry Cavill', 16863583),\n",
       " ('VerÃ³nica Echegui', 16863583),\n",
       " ('Sigourney Weaver', 16863583),\n",
       " ('Caroline Goodall', 16863583),\n",
       " ('Zoe Saldana', 13231461),\n",
       " ('Jeremy Irons', 13231461),\n",
       " ('Dennis Quaid', 13231461),\n",
       " ('Mark Duplass', 12434778),\n",
       " ('Victoria Justice', 11417362),\n",
       " ('Jackson Nicoll', 11417362),\n",
       " ('Chelsea Handler', 11417362),\n",
       " ('Josh Pence', 11417362),\n",
       " ('Jane Levy', 11417362),\n",
       " ('Ashley Greene', 9627492),\n",
       " ('Sebastian Stan', 9627492),\n",
       " ('Tom Felton', 9627492),\n",
       " ('Julianna Guill', 9627492),\n",
       " ('Luke Pasqualino', 9627492),\n",
       " ('Eva Longoria', 9622846),\n",
       " ('Andy GarcÃ\\xada', 9622846),\n",
       " ('Oscar Isaac', 9622846),\n",
       " (\"Peter O'Toole\", 9622846),\n",
       " ('RubÃ©n Blades', 9622846),\n",
       " ('Garrett Hedlund', 8784318),\n",
       " ('Sam Riley', 8784318),\n",
       " ('Tom Sturridge', 8784318),\n",
       " ('Danielle Panabaker', 8493728),\n",
       " ('Matt Bush', 8493728),\n",
       " ('Katrina Bowden', 8493728),\n",
       " ('Jean-Luc Bilodeau', 8493728),\n",
       " ('David Koechner', 8493728),\n",
       " ('Matt Damon', 8138788),\n",
       " ('Rosemarie DeWitt', 8138788),\n",
       " ('Lucas Black', 8138788),\n",
       " ('Timothy Spall', 8106475),\n",
       " ('James Kidnie', 8106475),\n",
       " ('Heidi Hawkins', 8106475),\n",
       " ('Sarah Gadon', 6063556),\n",
       " ('Juliette Binoche', 6063556),\n",
       " ('Paul Giamatti', 6063556),\n",
       " ('Samantha Morton', 6063556),\n",
       " ('Josh Duhamel', 4636169),\n",
       " ('Rosario Dawson', 4636169),\n",
       " (\"Vincent D'Onofrio\", 4636169),\n",
       " ('50 Cent', 4636169),\n",
       " ('Jason Bateman', 3428048),\n",
       " ('Hope Davis', 3428048),\n",
       " ('Frank Grillo', 3428048),\n",
       " ('Paula Patton', 3428048),\n",
       " ('Michael Nyqvist', 3428048),\n",
       " ('Nicolas Cage', 2106557),\n",
       " ('Josh Lucas', 2106557),\n",
       " ('Sami Gayle', 2106557),\n",
       " ('Danny Huston', 2106557)]"
      ]
     },
     "execution_count": 43,
     "metadata": {},
     "output_type": "execute_result"
    }
   ],
   "source": [
    "actors={}\n",
    "data2 = data[data.release_year==2012]\n",
    "\n",
    "for i in data2.index:\n",
    "    cast = data2.cast[i].split('|')\n",
    "    for actor in cast:\n",
    "        if actor in actors.keys():\n",
    "            actors[actor]= actors[actor] + data2.revenue[i]\n",
    "        else:\n",
    "            actors.setdefault(actor, data2.revenue[i])\n",
    "                    \n",
    "sorted(actors.items(), key=operator.itemgetter(1), reverse=True)"
   ]
  },
  {
   "cell_type": "markdown",
   "metadata": {
    "colab_type": "text",
    "id": "mWHyyL7QVp_j"
   },
   "source": [
    "# 16. Какой актер снялся в большем количестве высокобюджетных фильмов?"
   ]
  },
  {
   "cell_type": "code",
   "execution_count": 51,
   "metadata": {
    "colab": {},
    "colab_type": "code",
    "id": "qQtmHKTFVp_k"
   },
   "outputs": [],
   "source": [
    "answers['16'] = '3. Matt Damon'"
   ]
  },
  {
   "cell_type": "code",
   "execution_count": 94,
   "metadata": {},
   "outputs": [
    {
     "data": {
      "text/plain": [
       "Matt Damon           18\n",
       "Adam Sandler         17\n",
       "Angelina Jolie       16\n",
       "Eddie Murphy         15\n",
       "Samuel L. Jackson    15\n",
       "                     ..\n",
       "Rhona Mitra           1\n",
       "Eli Wallach           1\n",
       "Olivia Munn           1\n",
       "Eddie Redmayne        1\n",
       "Meagan Good           1\n",
       "Name: cast, Length: 1505, dtype: int64"
      ]
     },
     "execution_count": 94,
     "metadata": {},
     "output_type": "execute_result"
    }
   ],
   "source": [
    "#Усекаем до высокобюджетных фильмов, делим, взрываем, подсчитываем вхождения уникальных значений по актерам\n",
    "data[data.budget>data.budget.mean()].cast.str.split('|').explode().value_counts()"
   ]
  },
  {
   "cell_type": "markdown",
   "metadata": {},
   "source": [
    "Варинат 2"
   ]
  },
  {
   "cell_type": "code",
   "execution_count": 95,
   "metadata": {},
   "outputs": [
    {
     "data": {
      "text/plain": [
       "[('Matt Damon', 18),\n",
       " ('Adam Sandler', 17),\n",
       " ('Angelina Jolie', 16),\n",
       " ('Tom Cruise', 15),\n",
       " ('Samuel L. Jackson', 15),\n",
       " ('Eddie Murphy', 15),\n",
       " ('Mark Wahlberg', 14),\n",
       " ('Hugh Jackman', 14),\n",
       " ('Ben Stiller', 14),\n",
       " ('Jamie Foxx', 14),\n",
       " ('Russell Crowe', 14),\n",
       " ('Johnny Depp', 13),\n",
       " ('Jude Law', 13),\n",
       " ('Bruce Willis', 13),\n",
       " ('Will Smith', 13),\n",
       " ('Dwayne Johnson', 12),\n",
       " ('Ian McKellen', 12),\n",
       " ('Brad Pitt', 12),\n",
       " ('Owen Wilson', 12),\n",
       " ('Cameron Diaz', 12),\n",
       " ('Nicolas Cage', 12),\n",
       " ('Robert De Niro', 12),\n",
       " ('Leonardo DiCaprio', 11),\n",
       " ('Daniel Craig', 11),\n",
       " ('Robert Downey Jr.', 11),\n",
       " ('Steve Buscemi', 11),\n",
       " ('Vin Diesel', 10),\n",
       " ('Mark Ruffalo', 10),\n",
       " ('Jack Black', 10),\n",
       " ('Denzel Washington', 10),\n",
       " ('Emma Watson', 10),\n",
       " ('Gary Oldman', 10),\n",
       " ('Tom Hanks', 10),\n",
       " ('Orlando Bloom', 10),\n",
       " ('Ralph Fiennes', 9),\n",
       " ('Cate Blanchett', 9),\n",
       " ('Michael Caine', 9),\n",
       " ('Ewan McGregor', 9),\n",
       " ('Paul Bettany', 9),\n",
       " ('Brendan Gleeson', 9),\n",
       " ('Shia LaBeouf', 9),\n",
       " ('Nicole Kidman', 9),\n",
       " ('Colin Farrell', 9),\n",
       " ('Rachel Weisz', 9),\n",
       " ('Halle Berry', 9),\n",
       " ('Charlize Theron', 8),\n",
       " ('Kevin James', 8),\n",
       " ('Chris Hemsworth', 8),\n",
       " ('Helena Bonham Carter', 8),\n",
       " ('Josh Hutcherson', 8),\n",
       " ('George Clooney', 8),\n",
       " ('James Franco', 8),\n",
       " ('Christian Bale', 8),\n",
       " ('Gerard Butler', 8),\n",
       " ('Sylvester Stallone', 8),\n",
       " ('Rosario Dawson', 8),\n",
       " ('Ben Kingsley', 8),\n",
       " ('Bill Nighy', 8),\n",
       " ('Daniel Radcliffe', 8),\n",
       " ('Rupert Grint', 8),\n",
       " ('Jim Carrey', 8),\n",
       " ('Vince Vaughn', 8),\n",
       " ('Alec Baldwin', 8),\n",
       " ('Steve Carell', 8),\n",
       " ('Harrison Ford', 7),\n",
       " ('Jason Statham', 7),\n",
       " ('Chris Evans', 7),\n",
       " ('Woody Harrelson', 7),\n",
       " ('Josh Brolin', 7),\n",
       " ('Jeff Bridges', 7),\n",
       " ('Anne Hathaway', 7),\n",
       " ('Patrick Stewart', 7),\n",
       " ('Jennifer Connelly', 7),\n",
       " ('Anthony Hopkins', 7),\n",
       " ('Morgan Freeman', 7),\n",
       " ('Billy Crudup', 7),\n",
       " ('Jason Lee', 7),\n",
       " ('Jessica Biel', 7),\n",
       " ('Julia Roberts', 7),\n",
       " ('Ryan Reynolds', 7),\n",
       " ('Liam Neeson', 7),\n",
       " ('Karl Urban', 7),\n",
       " ('Richard Jenkins', 7),\n",
       " ('Chris Rock', 7),\n",
       " ('Kate Winslet', 6),\n",
       " ('Paul Walker', 6),\n",
       " ('Arnold Schwarzenegger', 6),\n",
       " ('Sean Bean', 6),\n",
       " ('Scarlett Johansson', 6),\n",
       " ('Elizabeth Banks', 6),\n",
       " ('Ving Rhames', 6),\n",
       " ('Mark Strong', 6),\n",
       " ('Jeffrey Wright', 6),\n",
       " ('Gwyneth Paltrow', 6),\n",
       " ('Matthew McConaughey', 6),\n",
       " ('Rosamund Pike', 6),\n",
       " ('Logan Lerman', 6),\n",
       " ('Robin Williams', 6),\n",
       " ('Stanley Tucci', 6),\n",
       " ('Mel Gibson', 6),\n",
       " ('Kevin Costner', 6),\n",
       " ('John Goodman', 6),\n",
       " ('Aaron Eckhart', 6),\n",
       " ('Justin Long', 6),\n",
       " ('Will Ferrell', 6),\n",
       " ('Seann William Scott', 6),\n",
       " ('Paul Giamatti', 6),\n",
       " ('Dustin Hoffman', 6),\n",
       " ('Mike Myers', 6),\n",
       " ('Eva Mendes', 6),\n",
       " ('Kate Beckinsale', 6),\n",
       " ('Jon Voight', 6),\n",
       " ('Jackie Chan', 6),\n",
       " ('Tobey Maguire', 6),\n",
       " ('Keanu Reeves', 6),\n",
       " ('Guy Pearce', 6),\n",
       " ('John Leguizamo', 6),\n",
       " ('Tommy Lee Jones', 6),\n",
       " ('Michelle Rodriguez', 5),\n",
       " ('Michael PeÃ±a', 5),\n",
       " ('Paul Rudd', 5),\n",
       " ('Jennifer Lawrence', 5),\n",
       " ('Carla Gugino', 5),\n",
       " ('Ioan Gruffudd', 5),\n",
       " ('Simon Pegg', 5),\n",
       " ('Giovanni Ribisi', 5),\n",
       " ('Frances McDormand', 5),\n",
       " ('Elijah Wood', 5),\n",
       " ('Jake Gyllenhaal', 5),\n",
       " ('Sam Worthington', 5),\n",
       " ('Delroy Lindo', 5),\n",
       " ('Bradley Cooper', 5),\n",
       " ('Donald Sutherland', 5),\n",
       " ('Ben Affleck', 5),\n",
       " ('Andy Serkis', 5),\n",
       " ('John Turturro', 5),\n",
       " ('Jonah Hill', 5),\n",
       " ('Julianne Moore', 5),\n",
       " ('John Malkovich', 5),\n",
       " ('Ian McShane', 5),\n",
       " ('Chris Pine', 5),\n",
       " ('Keira Knightley', 5),\n",
       " ('Jessica Alba', 5),\n",
       " ('Eric Bana', 5),\n",
       " ('Benjamin Bratt', 5),\n",
       " ('Hank Azaria', 5),\n",
       " ('John Travolta', 5),\n",
       " ('David Cross', 5),\n",
       " ('Clive Owen', 5),\n",
       " ('Sam Elliott', 5),\n",
       " ('Don Cheadle', 5),\n",
       " ('Ron Perlman', 5),\n",
       " ('Antonio Banderas', 5),\n",
       " ('Peter Sarsgaard', 5),\n",
       " ('Zach Galifianakis', 5),\n",
       " ('Nick Nolte', 5),\n",
       " ('Brendan Fraser', 5),\n",
       " ('Jennifer Aniston', 5),\n",
       " ('Edward Norton', 5),\n",
       " ('Judi Dench', 5),\n",
       " ('John C. Reilly', 5),\n",
       " ('Sacha Baron Cohen', 5),\n",
       " ('Kirsten Dunst', 5),\n",
       " ('Djimon Hounsou', 5),\n",
       " ('Catherine Zeta-Jones', 5),\n",
       " ('Tom Hardy', 4),\n",
       " ('Kristen Wiig', 4),\n",
       " ('Christoph Waltz', 4),\n",
       " ('Michelle Monaghan', 4),\n",
       " ('Liam Hemsworth', 4),\n",
       " ('Amanda Seyfried', 4),\n",
       " ('Steve Martin', 4),\n",
       " ('Ray Winstone', 4),\n",
       " ('Rose Byrne', 4),\n",
       " ('Tom Hiddleston', 4),\n",
       " ('Michael Fassbender', 4),\n",
       " ('Megan Fox', 4),\n",
       " ('Will Arnett', 4),\n",
       " ('William Fichtner', 4),\n",
       " ('Marton Csokas', 4),\n",
       " ('Emma Stone', 4),\n",
       " ('Bill Paxton', 4),\n",
       " ('Joel Edgerton', 4),\n",
       " ('Bryan Cranston', 4),\n",
       " ('Jay Baruchel', 4),\n",
       " ('Eva Green', 4),\n",
       " ('David Wenham', 4),\n",
       " ('Michael Gambon', 4),\n",
       " ('Mickey Rourke', 4),\n",
       " ('Joseph Gordon-Levitt', 4),\n",
       " ('Bill Murray', 4),\n",
       " ('Carrie-Anne Moss', 4),\n",
       " ('Bruce Greenwood', 4),\n",
       " ('Patrick Wilson', 4),\n",
       " ('Chiwetel Ejiofor', 4),\n",
       " ('Thandie Newton', 4),\n",
       " ('Anna Faris', 4),\n",
       " ('Amy Adams', 4),\n",
       " ('Susan Sarandon', 4),\n",
       " ('PenÃ©lope Cruz', 4),\n",
       " ('Jon Favreau', 4),\n",
       " ('Luis GuzmÃ¡n', 4),\n",
       " ('Jason Bateman', 4),\n",
       " ('Seth Rogen', 4),\n",
       " ('Reese Witherspoon', 4),\n",
       " ('Tyrese Gibson', 4),\n",
       " ('Catherine Keener', 4),\n",
       " ('James Cromwell', 4),\n",
       " ('Julie Andrews', 4),\n",
       " ('Alfred Molina', 4),\n",
       " ('Salma Hayek', 4),\n",
       " ('Kristen Stewart', 4),\n",
       " ('Peter Facinelli', 4),\n",
       " ('Jason Isaacs', 4),\n",
       " ('Ashton Kutcher', 4),\n",
       " ('Jack Nicholson', 4),\n",
       " ('Viggo Mortensen', 4),\n",
       " ('Liv Tyler', 4),\n",
       " ('Ed Harris', 4),\n",
       " ('Heath Ledger', 4),\n",
       " ('Kurt Russell', 4),\n",
       " ('Angela Bassett', 4),\n",
       " ('TÃ©a Leoni', 4),\n",
       " ('Terrence Howard', 4),\n",
       " ('Hayden Christensen', 4),\n",
       " ('Terence Stamp', 4),\n",
       " ('Anthony Mackie', 4),\n",
       " ('Zooey Deschanel', 4),\n",
       " ('Matthew Broderick', 4),\n",
       " ('Ed Helms', 4),\n",
       " ('Hugo Weaving', 4),\n",
       " ('Geoffrey Rush', 4),\n",
       " ('Natalie Portman', 4),\n",
       " ('Denis Leary', 4),\n",
       " ('Brian Cox', 4),\n",
       " ('Willem Dafoe', 4),\n",
       " ('Joaquin Phoenix', 4),\n",
       " ('Famke Janssen', 4),\n",
       " ('Peter Stormare', 4),\n",
       " ('Kerry Washington', 4),\n",
       " ('Billy Connolly', 4),\n",
       " ('Drew Barrymore', 4),\n",
       " ('RenÃ©e Zellweger', 4),\n",
       " ('Christopher Walken', 4),\n",
       " ('Bryce Dallas Howard', 3),\n",
       " ('Theo James', 3),\n",
       " ('Miles Teller', 3),\n",
       " ('Jason Clarke', 3),\n",
       " ('Jai Courtney', 3),\n",
       " ('Jessica Chastain', 3),\n",
       " ('Sandra Bullock', 3),\n",
       " ('Michael Keaton', 3),\n",
       " ('Bill Hader', 3),\n",
       " ('Monica Bellucci', 3),\n",
       " ('Mila Kunis', 3),\n",
       " ('Channing Tatum', 3),\n",
       " ('Josh Gad', 3),\n",
       " ('Michael Douglas', 3),\n",
       " ('Bobby Cannavale', 3),\n",
       " ('Hugh Laurie', 3),\n",
       " ('Alexandra Daddario', 3),\n",
       " ('Jeremy Renner', 3),\n",
       " ('Amy Ryan', 3),\n",
       " ('Henry Cavill', 3),\n",
       " ('Armie Hammer', 3),\n",
       " ('Kate Mara', 3),\n",
       " ('Jamie Bell', 3),\n",
       " ('Toby Kebbell', 3),\n",
       " ('Garrett Hedlund', 3),\n",
       " ('Andy Samberg', 3),\n",
       " ('Rachel McAdams', 3),\n",
       " ('Marion Cotillard', 3),\n",
       " ('Charlie Hunnam', 3),\n",
       " ('Casey Affleck', 3),\n",
       " ('Zoe Saldana', 3),\n",
       " ('Robert Redford', 3),\n",
       " ('Martin Freeman', 3),\n",
       " ('Richard Armitage', 3),\n",
       " ('Neil Patrick Harris', 3),\n",
       " ('James McAvoy', 3),\n",
       " ('Li Bingbing', 3),\n",
       " ('Colm Feore', 3),\n",
       " ('Sienna Miller', 3),\n",
       " ('Ken Watanabe', 3),\n",
       " ('Elle Fanning', 3),\n",
       " ('Sharlto Copley', 3),\n",
       " ('Luke Evans', 3),\n",
       " ('Dominic Cooper', 3),\n",
       " ('John Hurt', 3),\n",
       " ('Rufus Sewell', 3),\n",
       " ('Abbie Cornish', 3),\n",
       " ('Jesse Eisenberg', 3),\n",
       " ('Leslie Mann', 3),\n",
       " ('Andy GarcÃ\\xada', 3),\n",
       " ('Emily Browning', 3),\n",
       " ('Miranda Otto', 3),\n",
       " ('William Hurt', 3),\n",
       " ('Stephen Lang', 3),\n",
       " ('Christopher Plummer', 3),\n",
       " ('Malin Ã…kerman', 3),\n",
       " ('Amanda Peet', 3),\n",
       " ('Stellan SkarsgÃ¥rd', 3),\n",
       " ('Dennis Quaid', 3),\n",
       " ('Dakota Fanning', 3),\n",
       " ('Kristen Bell', 3),\n",
       " ('Kiefer Sutherland', 3),\n",
       " ('Robin Wright', 3),\n",
       " ('Josh Duhamel', 3),\n",
       " ('Meryl Streep', 3),\n",
       " ('Olivia Wilde', 3),\n",
       " ('Freddie Highmore', 3),\n",
       " ('Jordana Brewster', 3),\n",
       " ('Radha Mitchell', 3),\n",
       " ('Liev Schreiber', 3),\n",
       " ('Hugh Grant', 3),\n",
       " ('Sarah Jessica Parker', 3),\n",
       " ('Mary Steenburgen', 3),\n",
       " ('Russell Brand', 3),\n",
       " ('Emily Mortimer', 3),\n",
       " ('Skandar Keynes', 3),\n",
       " ('Georgie Henley', 3),\n",
       " ('Jason Flemyng', 3),\n",
       " ('Mary Elizabeth Winstead', 3),\n",
       " ('Brandon T. Jackson', 3),\n",
       " ('Mary-Louise Parker', 3),\n",
       " ('Maria Bello', 3),\n",
       " ('Robert Pattinson', 3),\n",
       " ('Taylor Lautner', 3),\n",
       " ('Greg Kinnear', 3),\n",
       " ('Kristin Davis', 3),\n",
       " ('Chris Noth', 3),\n",
       " ('James Marsden', 3),\n",
       " ('Dan Aykroyd', 3),\n",
       " ('Milla Jovovich', 3),\n",
       " ('Cuba Gooding Jr.', 3),\n",
       " ('Michael Clarke Duncan', 3),\n",
       " ('James Gandolfini', 3),\n",
       " ('Laurence Fishburne', 3),\n",
       " ('Billy Bob Thornton', 3),\n",
       " ('Teri Polo', 3),\n",
       " ('Lucy Liu', 3),\n",
       " ('Jada Pinkett Smith', 3),\n",
       " ('David Schwimmer', 3),\n",
       " ('Jeffrey Tambor', 3),\n",
       " ('Thomas Kretschmann', 3),\n",
       " ('Kenneth Branagh', 3),\n",
       " ('Cliff Curtis', 3),\n",
       " ('Michael Chiklis', 3),\n",
       " ('Jaden Smith', 3),\n",
       " ('Sienna Guillory', 3),\n",
       " ('Al Pacino', 3),\n",
       " ('Spencer Breslin', 3),\n",
       " ('Paula Patton', 3),\n",
       " ('Tim Robbins', 3),\n",
       " ('Justin Bartha', 3),\n",
       " ('Ken Jeong', 3),\n",
       " ('Jane Lynch', 3),\n",
       " ('Isla Fisher', 3),\n",
       " ('CiarÃ¡n Hinds', 3),\n",
       " ('Lily Collins', 3),\n",
       " ('Kevin Bacon', 3),\n",
       " ('Ray Romano', 3),\n",
       " ('Chris Cooper', 3),\n",
       " ('Emma Thompson', 3),\n",
       " ('William Shatner', 3),\n",
       " ('Cole Hauser', 3),\n",
       " ('Randy Quaid', 3),\n",
       " ('Harvey Keitel', 3),\n",
       " ('Scott Glenn', 3),\n",
       " ('David Oyelowo', 3),\n",
       " ('Michelle Pfeiffer', 3),\n",
       " ('David Spade', 3),\n",
       " ('Marisa Tomei', 3),\n",
       " ('Josh Lucas', 3),\n",
       " ('David Thewlis', 3),\n",
       " ('Connie Nielsen', 3),\n",
       " ('Bruce McGill', 3),\n",
       " ('Shirley MacLaine', 3),\n",
       " ('Hiroyuki Sanada', 3),\n",
       " ('Sean Penn', 3),\n",
       " ('Richard Roxburgh', 3),\n",
       " ('Val Kilmer', 3),\n",
       " ('Emmy Rossum', 3),\n",
       " ('Miranda Richardson', 3),\n",
       " ('Chris Pratt', 2),\n",
       " ('Irrfan Khan', 2),\n",
       " ('Nicholas Hoult', 2),\n",
       " ('Shailene Woodley', 2),\n",
       " ('Domhnall Gleeson', 2),\n",
       " ('J.K. Simmons', 2),\n",
       " ('Jeff Daniels', 2),\n",
       " ('Allison Janney', 2),\n",
       " ('Steve Coogan', 2),\n",
       " ('Amy Poehler', 2),\n",
       " ('LÃ©a Seydoux', 2),\n",
       " ('Evangeline Lilly', 2),\n",
       " ('Corey Stoll', 2),\n",
       " ('Colin Firth', 2),\n",
       " ('Giancarlo Esposito', 2),\n",
       " ('Alicia Vikander', 2),\n",
       " ('Elizabeth Debicki', 2),\n",
       " ('Rihanna', 2),\n",
       " ('Jennifer Lopez', 2),\n",
       " ('Edgar RamÃ\\xadrez', 2),\n",
       " ('Teresa Palmer', 2),\n",
       " ('Viola Davis', 2),\n",
       " ('Benjamin Walker', 2),\n",
       " ('Ben Whishaw', 2),\n",
       " ('Rooney Mara', 2),\n",
       " ('Selena Gomez', 2),\n",
       " ('Mia Wasikowska', 2),\n",
       " ('Sebastian Stan', 2),\n",
       " ('Ken Stott', 2),\n",
       " ('Graham McTavish', 2),\n",
       " ('Jamie Chung', 2),\n",
       " ('Rami Malek', 2),\n",
       " ('Ray Stevenson', 2),\n",
       " ('Nicola Peltz', 2),\n",
       " ('Keri Russell', 2),\n",
       " ('ChloÃ« Grace Moretz', 2),\n",
       " ('Andrew Garfield', 2),\n",
       " ('Emily Blunt', 2),\n",
       " ('Aaron Paul', 2),\n",
       " ('Ben Barnes', 2),\n",
       " ('Kit Harington', 2),\n",
       " ('Lena Headey', 2),\n",
       " ('Joel Kinnaman', 2),\n",
       " ('Jackie Earle Haley', 2),\n",
       " ('Adewale Akinnuoye-Agbaje', 2),\n",
       " ('RamÃ³n RodrÃ\\xadguez', 2),\n",
       " ('Yvonne Strahovski', 2),\n",
       " ('Kellan Lutz', 2),\n",
       " ('Sigourney Weaver', 2),\n",
       " ('MÃ©lanie Laurent', 2),\n",
       " ('Julie Walters', 2),\n",
       " ('Zachary Quinto', 2),\n",
       " ('Anton Yelchin', 2),\n",
       " ('Eddie Marsan', 2),\n",
       " ('Jeffrey Dean Morgan', 2),\n",
       " ('John Cusack', 2),\n",
       " ('Oliver Platt', 2),\n",
       " ('Keith David', 2),\n",
       " ('Marlon Wayans', 2),\n",
       " ('James Caan', 2),\n",
       " ('Saoirse Ronan', 2),\n",
       " ('Sam Rockwell', 2),\n",
       " ('Tracy Morgan', 2),\n",
       " ('Zachary Levi', 2),\n",
       " ('Mary Kay Place', 2),\n",
       " ('Michael Cera', 2),\n",
       " ('Oscar Isaac', 2),\n",
       " ('Danny Huston', 2),\n",
       " ('Lynn Collins', 2),\n",
       " ('Jason Segel', 2),\n",
       " ('Dolph Lundgren', 2),\n",
       " ('Michelle Williams', 2),\n",
       " ('Mandy Moore', 2),\n",
       " ('Tim Allen', 2),\n",
       " ('Ned Beatty', 2),\n",
       " ('Joan Cusack', 2),\n",
       " ('Timothy Dalton', 2),\n",
       " ('Gemma Arterton', 2),\n",
       " ('Anna Kendrick', 2),\n",
       " ('Barbra Streisand', 2),\n",
       " ('Helen Mirren', 2),\n",
       " ('Tina Fey', 2),\n",
       " ('Ashley Greene', 2),\n",
       " ('Jordi MollÃ\\xa0', 2),\n",
       " ('Javier Bardem', 2),\n",
       " ('Katherine Heigl', 2),\n",
       " ('Tom Selleck', 2),\n",
       " ('Cynthia Nixon', 2),\n",
       " ('Kim Cattrall', 2),\n",
       " ('Essie Davis', 2),\n",
       " ('Eric Dane', 2),\n",
       " ('Cam Gigandet', 2),\n",
       " ('Julianne Hough', 2),\n",
       " ('Stephanie Szostak', 2),\n",
       " ('Bette Midler', 2),\n",
       " ('Carey Mulligan', 2),\n",
       " ('Justin Timberlake', 2),\n",
       " ('John Cleese', 2),\n",
       " ('Billy Crystal', 2),\n",
       " (\"Frances O'Connor\", 2),\n",
       " ('John Lithgow', 2),\n",
       " ('Josh Hartnett', 2),\n",
       " ('John Hannah', 2),\n",
       " ('Arnold Vosloo', 2),\n",
       " ('Michael J. Fox', 2),\n",
       " ('James Garner', 2),\n",
       " ('Noah Taylor', 2),\n",
       " ('Tim Roth', 2),\n",
       " ('Kris Kristofferson', 2),\n",
       " ('Tom Sizemore', 2),\n",
       " ('Chris Tucker', 2),\n",
       " ('Zhang Ziyi', 2),\n",
       " ('Ernie Reyes, Jr.', 2),\n",
       " ('Elizabeth Perkins', 2),\n",
       " ('Sam Shepard', 2),\n",
       " ('Dylan Baker', 2),\n",
       " ('Gene Hackman', 2),\n",
       " ('Dominic West', 2),\n",
       " ('Edward Burns', 2),\n",
       " ('Martin Landau', 2),\n",
       " ('David Ogden Stiers', 2),\n",
       " ('Courteney Cox', 2),\n",
       " ('David Hyde Pierce', 2),\n",
       " ('Til Schweiger', 2),\n",
       " ('David Andrews', 2),\n",
       " ('William H. Macy', 2),\n",
       " ('Jeff Garlin', 2),\n",
       " ('Olga Kurylenko', 2),\n",
       " ('Jet Li', 2),\n",
       " ('Selma Blair', 2),\n",
       " ('Michael Rooker', 2),\n",
       " ('William Moseley', 2),\n",
       " ('Anna Popplewell', 2),\n",
       " ('Kathy Bates', 2),\n",
       " ('Michael Ealy', 2),\n",
       " ('Malcolm McDowell', 2),\n",
       " ('Alan Arkin', 2),\n",
       " ('Ali Suliman', 2),\n",
       " ('Adam Scott', 2),\n",
       " ('Kate Hudson', 2),\n",
       " ('Ewen Bremner', 2),\n",
       " ('Lambert Wilson', 2),\n",
       " ('Charlotte Rampling', 2),\n",
       " ('Robert Duvall', 2),\n",
       " ('Christina Ricci', 2),\n",
       " ('Matthew Fox', 2),\n",
       " ('Gabriel Macht', 2),\n",
       " ('Paz Vega', 2),\n",
       " ('Kevin Kline', 2),\n",
       " ('Gabrielle Union', 2),\n",
       " ('Goran Visnjic', 2),\n",
       " ('Bailee Madison', 2),\n",
       " ('Noomi Rapace', 2),\n",
       " ('Larry the Cable Guy', 2),\n",
       " ('Eddie Izzard', 2),\n",
       " ('Vanessa Hudgens', 2),\n",
       " ('Emily Watson', 2),\n",
       " ('Asa Butterfield', 2),\n",
       " ('Dominic Purcell', 2),\n",
       " ('Maggie Q', 2),\n",
       " ('Isabel Lucas', 2),\n",
       " ('Katie Holmes', 2),\n",
       " ('Amy Sedaris', 2),\n",
       " ('Jason Momoa', 2),\n",
       " ('Lea Michele', 2),\n",
       " ('Johnny A. Sanchez', 2),\n",
       " ('Seth Green', 2),\n",
       " ('Queen Latifah', 2),\n",
       " ('Richard Harris', 2),\n",
       " ('Franka Potente', 2),\n",
       " ('Ian McDiarmid', 2),\n",
       " ('Max von Sydow', 2),\n",
       " ('Abigail Breslin', 2),\n",
       " ('Elias Koteas', 2),\n",
       " ('Liam Aiken', 2),\n",
       " ('Paul Newman', 2),\n",
       " ('BeyoncÃ© Knowles', 2),\n",
       " ('Mark Addy', 2),\n",
       " ('Adam Beach', 2),\n",
       " ('Izabella Scorupco', 2),\n",
       " ('Naomie Harris', 2),\n",
       " ('Idris Elba', 2),\n",
       " ('Martin Sheen', 2),\n",
       " ('Kevin McKidd', 2),\n",
       " ('Jim Broadbent', 2),\n",
       " ('Jim Sturgess', 2),\n",
       " ('Jonny Lee Miller', 2),\n",
       " ('Timothy Spall', 2),\n",
       " ('Taylor Kitsch', 2),\n",
       " ('Tadanobu Asano', 2),\n",
       " ('Nathan Lane', 2),\n",
       " ('Jack Davenport', 2),\n",
       " ('Claire Danes', 2),\n",
       " ('Jennifer Garner', 2),\n",
       " ('Martin Lawrence', 2),\n",
       " ('TchÃ©ky Karyo', 2),\n",
       " ('Bernie Mac', 2),\n",
       " ('Robert Patrick', 2),\n",
       " ('Steve Zahn', 2),\n",
       " ('Timothy Olyphant', 2),\n",
       " ('Diane Lane', 2),\n",
       " ('Jodie Foster', 2),\n",
       " ('Alice Braga', 2),\n",
       " ('Diego Luna', 2),\n",
       " ('James Badge Dale', 2),\n",
       " ('Patton Oswalt', 2),\n",
       " ('Cloris Leachman', 2),\n",
       " ('Max Martini', 2),\n",
       " ('Maggie Gyllenhaal', 2),\n",
       " ('Sung Kang', 2),\n",
       " ('Sophie Okonedo', 2),\n",
       " ('Zach Braff', 2),\n",
       " ('Jim Belushi', 2),\n",
       " ('AnnaSophia Robb', 2),\n",
       " ('Julian McMahon', 2),\n",
       " ('Lauren Graham', 2),\n",
       " ('Gong Li', 2),\n",
       " ('Amber Valletta', 2),\n",
       " ('Jeremy Irons', 2),\n",
       " ('Adrien Brody', 2),\n",
       " ('Lucas Black', 2),\n",
       " ('Donal Logue', 2),\n",
       " ('Paddy Considine', 2),\n",
       " ('Bonnie Hunt', 2),\n",
       " ('Yvan Attal', 2),\n",
       " ('Mads Mikkelsen', 2),\n",
       " ('Jean Reno', 2),\n",
       " ('Philip Seymour Hoffman', 2),\n",
       " ('Jonathan Rhys Meyers', 2),\n",
       " ('David Strathairn', 2),\n",
       " ('Sharon Stone', 2),\n",
       " ('Jacinda Barrett', 2),\n",
       " ('Gary Sinise', 2),\n",
       " ('Danny Glover', 2),\n",
       " ('Julia Stiles', 2),\n",
       " ('Diane Kruger', 2),\n",
       " ('Chi McBride', 2),\n",
       " ('Jane Krakowski', 2),\n",
       " ('Glenn Close', 2),\n",
       " ('Patrick Warburton', 2),\n",
       " ('John Michael Higgins', 2),\n",
       " ('Helen Hunt', 2),\n",
       " (\"Vincent D'Onofrio\", 1),\n",
       " ('Nick Robinson', 1),\n",
       " ('Hugh Keays-Byrne', 1),\n",
       " ('Josh Helman', 1),\n",
       " ('Ansel Elgort', 1),\n",
       " ('Mark Hamill', 1),\n",
       " ('Carrie Fisher', 1),\n",
       " ('Adam Driver', 1),\n",
       " ('Daisy Ridley', 1),\n",
       " ('Will Poulter', 1),\n",
       " ('Paul Anderson', 1),\n",
       " ('Emilia Clarke', 1),\n",
       " ('Jon Hamm', 1),\n",
       " ('Phyllis Smith', 1),\n",
       " ('Richard Kind', 1),\n",
       " ('Lewis Black', 1),\n",
       " ('Eddie Redmayne', 1),\n",
       " ('Douglas Booth', 1),\n",
       " ('Peter Dinklage', 1),\n",
       " ('Lily James', 1),\n",
       " ('Richard Madden', 1),\n",
       " ('Holliday Grainger', 1),\n",
       " ('Britt Robertson', 1),\n",
       " ('Raffey Cassidy', 1),\n",
       " ('Thomas Robinson', 1),\n",
       " ('Archie Panjabi', 1),\n",
       " ('Rebecca Ferguson', 1),\n",
       " ('Seth MacFarlane', 1),\n",
       " ('Jessica Barth', 1),\n",
       " ('Taron Egerton', 1),\n",
       " (\"Dylan O'Brien\", 1),\n",
       " ('Kaya Scodelario', 1),\n",
       " ('Thomas Brodie-Sangster', 1),\n",
       " ('Aidan Gillen', 1),\n",
       " ('Dylan Minnette', 1),\n",
       " ('Odeya Rush', 1),\n",
       " ('Jillian Bell', 1),\n",
       " ('Raymond Ochoa', 1),\n",
       " ('Jack Bright', 1),\n",
       " ('Maleah Nipay-Padilla', 1),\n",
       " ('Rose Leslie', 1),\n",
       " ('Ã“lafur Darri Ã“lafsson', 1),\n",
       " ('Luca Calvani', 1),\n",
       " ('Jim Parsons', 1),\n",
       " ('Matt Jones', 1),\n",
       " ('John Hawkes', 1),\n",
       " ('Luke Bracey', 1),\n",
       " ('Olivia Munn', 1),\n",
       " ('Leehom Wang', 1),\n",
       " ('Tang Wei', 1),\n",
       " ('Holt McCallany', 1),\n",
       " ('Michael B. Jordan', 1),\n",
       " ('Melissa McCarthy', 1),\n",
       " ('Miranda Hart', 1),\n",
       " ('Cillian Murphy', 1),\n",
       " ('Levi Miller', 1),\n",
       " ('Noah Schnapp', 1),\n",
       " ('Bill Melendez', 1),\n",
       " ('Venus Schultheis', 1),\n",
       " ('Hadley Belle Miller', 1),\n",
       " ('Madisyn Shipman', 1),\n",
       " ('Jim Beaver', 1),\n",
       " ('Tom Kenny', 1),\n",
       " ('Bill Fagerbakke', 1),\n",
       " ('Rodger Bumpass', 1),\n",
       " ('Clancy Brown', 1),\n",
       " ('Carolyn Lawrence', 1),\n",
       " ('Dave Bautista', 1),\n",
       " ('Scott Adsit', 1),\n",
       " ('Ryan Potter', 1),\n",
       " ('Daniel Henney', 1),\n",
       " ('T.J. Miller', 1),\n",
       " ('Carrie Coon', 1),\n",
       " ('Tyler Perry', 1),\n",
       " ('Jon Bernthal', 1),\n",
       " ('Rebel Wilson', 1),\n",
       " ('Alan Ritchson', 1),\n",
       " ('Noel Fisher', 1),\n",
       " ('Jack Reynor', 1),\n",
       " ('Judy Greer', 1),\n",
       " ('David Harbour', 1),\n",
       " ('Haley Bennett', 1),\n",
       " ('Dane DeHaan', 1),\n",
       " ('Jonas Armstrong', 1),\n",
       " ('Kyle Gallner', 1),\n",
       " ('Cole Konis', 1),\n",
       " ('Ben Reed', 1),\n",
       " ('Ben Mendelsohn', 1),\n",
       " ('Aaron Taylor-Johnson', 1),\n",
       " ('Elizabeth Olsen', 1),\n",
       " ('Juliette Binoche', 1),\n",
       " ('Juno Temple', 1),\n",
       " ('Isobelle Molloy', 1),\n",
       " ('Craig Berry', 1),\n",
       " ('Alison Brie', 1),\n",
       " ('David Burrows', 1),\n",
       " ('Sarah Gadon', 1),\n",
       " ('Art Parkinson', 1),\n",
       " ('Charles Dance', 1),\n",
       " ('Tom McGrath', 1),\n",
       " ('Chris Miller', 1),\n",
       " ('Christopher Knights', 1),\n",
       " ('Conrad Vernon', 1),\n",
       " ('Sullivan Stapleton', 1),\n",
       " ('Callan Mulvey', 1),\n",
       " ('Peter Capaldi', 1),\n",
       " ('Imelda Staunton', 1),\n",
       " ('Aksel Hennie', 1),\n",
       " ('Nonso Anozie', 1),\n",
       " ('Gemma Chan', 1),\n",
       " ('Rebecca Hall', 1),\n",
       " ('Ty Burrell', 1),\n",
       " ('Max Charles', 1),\n",
       " ('Ariel Winter', 1),\n",
       " ('Ellie Kemper', 1),\n",
       " (\"Jack O'Connell\", 1),\n",
       " ('Takamasa Ishihara', 1),\n",
       " ('Finn Wittrock', 1),\n",
       " ('Jessica Lucas', 1),\n",
       " ('QuvenzhanÃ© Wallis', 1),\n",
       " ('Imogen Poots', 1),\n",
       " ('Isaac Hempstead Wright', 1),\n",
       " ('Dee Bradley Baker', 1),\n",
       " ('Steve Blum', 1),\n",
       " ('Jessica Brown Findlay', 1),\n",
       " ('Liam McIntyre', 1),\n",
       " ('Gaia Weiss', 1),\n",
       " ('Scott Adkins', 1),\n",
       " ('Roxanne McKee', 1),\n",
       " ('Eli Roth', 1),\n",
       " ('Tom Felton', 1),\n",
       " ('Ed Asner', 1),\n",
       " ('Jordan Nagai', 1),\n",
       " ('Bob Peterson', 1),\n",
       " ('Leonard Nimoy', 1),\n",
       " ('Moon Bloodgood', 1),\n",
       " ('Ayelet Zurer', 1),\n",
       " ('Pierfrancesco Favino', 1),\n",
       " ('Anika Noni Rose', 1),\n",
       " ('Bruno Campos', 1),\n",
       " ('Michael-Leon Wooley', 1),\n",
       " ('Jennifer Cody', 1),\n",
       " ('Mr. T', 1),\n",
       " ('Teri Hatcher', 1),\n",
       " ('Jennifer Saunders', 1),\n",
       " ('Dawn French', 1),\n",
       " ('Steve Valentine', 1),\n",
       " ('Daryl Sabara', 1),\n",
       " ('Sage Ryan', 1),\n",
       " ('Victor Gojcaj', 1),\n",
       " ('Matthew Gray Gubler', 1),\n",
       " ('Rainn Wilson', 1),\n",
       " ('Lake Bell', 1),\n",
       " ('Anna Friel', 1),\n",
       " ('Danny McBride', 1),\n",
       " ('Jorma Taccone', 1),\n",
       " ('Matt Lauer', 1),\n",
       " ('Tony Kgoroge', 1),\n",
       " ('Patrick Mofokeng', 1),\n",
       " ('Matt Stern', 1),\n",
       " ('Max Minghella', 1),\n",
       " ('Ashraf Barhom', 1),\n",
       " ('Michael Lonsdale', 1),\n",
       " ('John Ortiz', 1),\n",
       " ('Tom Wilkinson', 1),\n",
       " ('Lisa Roberts Gillan', 1),\n",
       " ('Nelsan Ellis', 1),\n",
       " ('Michael Bunin', 1),\n",
       " ('Natalia Klimas', 1),\n",
       " ('Ellen Page', 1),\n",
       " ('Crispin Glover', 1),\n",
       " ('Eric Roberts', 1),\n",
       " ('Randy Couture', 1),\n",
       " ('Craig Ferguson', 1),\n",
       " ('America Ferrera', 1),\n",
       " ('Bruce Boxleitner', 1),\n",
       " ('Yaya DaCosta', 1),\n",
       " ('Donna Murphy', 1),\n",
       " ('M.C. Gainey', 1),\n",
       " ('Daniel Olbrychski', 1),\n",
       " ('Gary Sweet', 1),\n",
       " ('Arthur Angel', 1),\n",
       " ('Steven Berkoff', 1),\n",
       " ('Steve Toussaint', 1),\n",
       " ('Kieran Culkin', 1),\n",
       " ('Jake Abel', 1),\n",
       " ('Ethan Suplee', 1),\n",
       " ('Kevin Corrigan', 1),\n",
       " ('Maya Rudolph', 1),\n",
       " ('Jennifer Beals', 1),\n",
       " ('Taraji P. Henson', 1),\n",
       " ('Jimmi Simpson', 1),\n",
       " ('Noah Ringer', 1),\n",
       " ('Jackson Rathbone', 1),\n",
       " ('Dev Patel', 1),\n",
       " ('Shaun Toub', 1),\n",
       " (\"Chris O'Dowd\", 1),\n",
       " ('Juliette Lewis', 1),\n",
       " (\"Catherine O'Hara\", 1),\n",
       " ('Alex Borstein', 1),\n",
       " ('Emily Barclay', 1),\n",
       " ('Deborra-Lee Furness', 1),\n",
       " ('Cher', 1),\n",
       " ('Christina Aguilera', 1),\n",
       " ('Jemaine Clement', 1),\n",
       " ('Christina Applegate', 1),\n",
       " ('Pascale Hutton', 1),\n",
       " ('Kathryn Hahn', 1),\n",
       " ('Frank Langella', 1),\n",
       " ('Tom Cavanagh', 1),\n",
       " ('Christine Taylor', 1),\n",
       " ('Shawn Roberts', 1),\n",
       " (\"Denis O'Hare\", 1),\n",
       " ('Wentworth Miller', 1),\n",
       " ('Ali Larter', 1),\n",
       " ('Kim Coates', 1),\n",
       " ('Kacey Barnfield', 1),\n",
       " ('Robbie Coltrane', 1),\n",
       " ('Mary Gibbs', 1),\n",
       " ('James Coburn', 1),\n",
       " ('Haley Joel Osment', 1),\n",
       " ('Sam Robards', 1),\n",
       " ('Jake Thomas', 1),\n",
       " ('Vincent Cassel', 1),\n",
       " ('Oded Fehr', 1),\n",
       " ('Corey Burton', 1),\n",
       " ('Claudia Christian', 1),\n",
       " ('John Mahoney', 1),\n",
       " ('Iain Glen', 1),\n",
       " ('Joseph Fiennes', 1),\n",
       " ('Bob Hoskins', 1),\n",
       " ('Shannyn Sossamon', 1),\n",
       " ('Laura Fraser', 1),\n",
       " ('Roselyn SÃ¡nchez', 1),\n",
       " ('Jeff Goldblum', 1),\n",
       " ('Alexander Pollock', 1),\n",
       " ('Miriam Margolyes', 1),\n",
       " ('Catherine McCormack', 1),\n",
       " ('Stephen Dillane', 1),\n",
       " ('Larry Bryggman', 1),\n",
       " ('Ming-Na Wen', 1),\n",
       " ('Kristen Wilson', 1),\n",
       " ('Raven-SymonÃ©', 1),\n",
       " ('Kyla Pratt', 1),\n",
       " ('Steve Burton', 1),\n",
       " ('Monica Potter', 1),\n",
       " ('Michael Wincott', 1),\n",
       " ('Mika Boorem', 1),\n",
       " ('Jason Bonham', 1),\n",
       " ('Kelsey Grammer', 1),\n",
       " ('Avery Brooks', 1),\n",
       " ('David Duchovny', 1),\n",
       " ('Orlando Jones', 1),\n",
       " ('Ted Levine', 1),\n",
       " ('Mario Van Peebles', 1),\n",
       " ('Ron Silver', 1),\n",
       " ('Marlon Brando', 1),\n",
       " ('Paul Soles', 1),\n",
       " ('Laurie Holden', 1),\n",
       " ('Hal Holbrook', 1),\n",
       " ('Christian Slater', 1),\n",
       " ('Kevin Pollak', 1),\n",
       " ('Brandy Norwood', 1),\n",
       " ('Troy Garity', 1),\n",
       " ('William Converse-Roberts', 1),\n",
       " ('Kip Pardue', 1),\n",
       " ('Robert Sean Leonard', 1),\n",
       " ('Estella Warren', 1),\n",
       " ('Ray Liotta', 1),\n",
       " (\"Matt O'Leary\", 1),\n",
       " ('Bridget Fonda', 1),\n",
       " ('Chris Kattan', 1),\n",
       " ('Sam Neill', 1),\n",
       " ('Trevor Morgan', 1),\n",
       " ('Alessandro Nivola', 1),\n",
       " ('Ben Burtt', 1),\n",
       " ('Elissa Knight', 1),\n",
       " ('Fred Willard', 1),\n",
       " ('John Ratzenberger', 1),\n",
       " ('Leslie Bibb', 1),\n",
       " ('Karen Allen', 1),\n",
       " ('Mathieu Amalric', 1),\n",
       " ('Giancarlo Giannini', 1),\n",
       " ('Tilda Swinton', 1),\n",
       " ('Julia Ormond', 1),\n",
       " ('Luke Ford', 1),\n",
       " ('Tim Blake Nelson', 1),\n",
       " ('Cedric the Entertainer', 1),\n",
       " ('Doug Jones', 1),\n",
       " ('Rachel Bilson', 1),\n",
       " ('Carice van Houten', 1),\n",
       " ('Steven Strait', 1),\n",
       " ('Camilla Belle', 1),\n",
       " ('Nathanael Baring', 1),\n",
       " ('Mo Zinal', 1),\n",
       " ('Jae Head', 1),\n",
       " ('Sarah Jane Morris', 1),\n",
       " ('Miley Cyrus', 1),\n",
       " ('Susie Essman', 1),\n",
       " ('Mark Walton', 1),\n",
       " ('Bryan Brown', 1),\n",
       " ('Rhys Darby', 1),\n",
       " ('Sasha Alexander', 1),\n",
       " ('Fionnula Flanagan', 1),\n",
       " ('Kathleen Turner', 1),\n",
       " ('Simon McBurney', 1),\n",
       " ('Eliza Bennett', 1),\n",
       " ('Alexis Dziena', 1),\n",
       " ('Lucy Lawless', 1),\n",
       " ('Michelle Yeoh', 1),\n",
       " ('MÃ©lanie Thierry', 1),\n",
       " ('Jeffrey Donovan', 1),\n",
       " ('Geoff Pierson', 1),\n",
       " ('Sarah Bolger', 1),\n",
       " ('Andrew McCarthy', 1),\n",
       " ('Dwight Yoakam', 1),\n",
       " ('Romany Malco', 1),\n",
       " ('Meagan Good', 1),\n",
       " ('Emile Hirsch', 1),\n",
       " ('Scott Porter', 1),\n",
       " ('Carol Burnett', 1),\n",
       " ('Michael Angarano', 1),\n",
       " ('Collin Chou', 1),\n",
       " ('50 Cent', 1),\n",
       " ('Donnie Wahlberg', 1),\n",
       " ('Emmanuelle Chriqui', 1),\n",
       " ('Nick Swardson', 1),\n",
       " ('Lainie Kazan', 1),\n",
       " ('Harry Treadaway', 1),\n",
       " ('Betty Buckley', 1),\n",
       " ('Tracey Ullman', 1),\n",
       " ('Scott Caan', 1),\n",
       " ('Hayley Atwell', 1),\n",
       " ('Alan Rickman', 1),\n",
       " ('Maggie Smith', 1),\n",
       " ('Kevin McNally', 1),\n",
       " ('Karin Konoval', 1),\n",
       " ('Freida Pinto', 1),\n",
       " ('Anil Kapoor', 1),\n",
       " ('Griffin Gluck', 1),\n",
       " ('Dakota Goyo', 1),\n",
       " ('Kevin Durand', 1),\n",
       " ('Jared Harris', 1),\n",
       " ('Kelly Reilly', 1),\n",
       " ('Blake Lively', 1),\n",
       " ('Nick Frost', 1),\n",
       " ('Jena Malone', 1),\n",
       " ('Will.i.am', 1),\n",
       " ('Walton Goggins', 1),\n",
       " ('Benedict Cumberbatch', 1),\n",
       " ('Jeremy Irvine', 1),\n",
       " ('Violante Placido', 1),\n",
       " ('Fergus Riordan', 1),\n",
       " ('Johnny Whitworth', 1),\n",
       " ('Matthew Macfadyen', 1),\n",
       " ('Will Rothhaar', 1),\n",
       " ('Cory Hardrict', 1),\n",
       " ('Jim Parrack', 1),\n",
       " ('Eugenio Derbez', 1),\n",
       " ('Tim Meadows', 1),\n",
       " ('Jay Chou', 1),\n",
       " ('Edward Furlong', 1),\n",
       " ('Rose McGowan', 1),\n",
       " ('Rachel Nichols', 1),\n",
       " ('Alan Alda', 1),\n",
       " ('Pink', 1),\n",
       " ('E.G. Daily', 1),\n",
       " ('Dan Fogler', 1),\n",
       " ('Breckin Meyer', 1),\n",
       " ('Elisabeth Harnois', 1),\n",
       " ('Jenny Slate', 1),\n",
       " ('Andy Buckley', 1),\n",
       " ('Jayma Mays', 1),\n",
       " ('Alan Cumming', 1),\n",
       " ...]"
      ]
     },
     "execution_count": 95,
     "metadata": {},
     "output_type": "execute_result"
    }
   ],
   "source": [
    "actors={}\n",
    "data2 = data[data.budget>data.budget.mean()]\n",
    "for i in data2.index:\n",
    "    cast = data2.cast[i].split('|')\n",
    "    for actor in cast:\n",
    "        if actor in actors.keys():\n",
    "            actors[actor] += 1\n",
    "        else:\n",
    "            actors.setdefault(actor, 1)\n",
    "                    \n",
    "sorted(actors.items(), key=operator.itemgetter(1), reverse=True)"
   ]
  },
  {
   "cell_type": "markdown",
   "metadata": {
    "colab_type": "text",
    "id": "NIh6AaW5Vp_n"
   },
   "source": [
    "# 17. В фильмах какого жанра больше всего снимался Nicolas Cage? "
   ]
  },
  {
   "cell_type": "code",
   "execution_count": 53,
   "metadata": {
    "colab": {},
    "colab_type": "code",
    "id": "H74SJDIBVp_n"
   },
   "outputs": [],
   "source": [
    "answers['17'] = '2. Action'"
   ]
  },
  {
   "cell_type": "code",
   "execution_count": 96,
   "metadata": {},
   "outputs": [
    {
     "data": {
      "text/plain": [
       "Action             17\n",
       "Thriller           15\n",
       "Drama              12\n",
       "Crime              10\n",
       "Fantasy             8\n",
       "Adventure           7\n",
       "Comedy              6\n",
       "Science Fiction     4\n",
       "Animation           3\n",
       "Mystery             3\n",
       "Family              3\n",
       "History             2\n",
       "Romance             1\n",
       "War                 1\n",
       "Horror              1\n",
       "Name: genres, dtype: int64"
      ]
     },
     "execution_count": 96,
     "metadata": {},
     "output_type": "execute_result"
    }
   ],
   "source": [
    "#Усекаем до фильмов c Кейджем, делим по жанрам, взрываем, подсчитываем вхождения уникальных значений \n",
    "data[data.cast.str.contains('Nicolas Cage')].genres.str.split('|').explode().value_counts()"
   ]
  },
  {
   "cell_type": "markdown",
   "metadata": {},
   "source": [
    "Вариант 2"
   ]
  },
  {
   "cell_type": "code",
   "execution_count": 45,
   "metadata": {},
   "outputs": [
    {
     "data": {
      "text/plain": [
       "[('Action', 17),\n",
       " ('Thriller', 15),\n",
       " ('Drama', 12),\n",
       " ('Crime', 10),\n",
       " ('Fantasy', 8),\n",
       " ('Adventure', 7),\n",
       " ('Comedy', 6),\n",
       " ('Science Fiction', 4),\n",
       " ('Mystery', 3),\n",
       " ('Animation', 3),\n",
       " ('Family', 3),\n",
       " ('History', 2),\n",
       " ('War', 1),\n",
       " ('Horror', 1),\n",
       " ('Romance', 1)]"
      ]
     },
     "execution_count": 45,
     "metadata": {},
     "output_type": "execute_result"
    }
   ],
   "source": [
    "genres_count={}\n",
    "data2 = data[data.cast.str.contains('Nicolas Cage')]\n",
    "for i in data2.index:\n",
    "        genres = data2.genres[i].split('|')\n",
    "        for genre in  genres:\n",
    "            if genre in genres_count.keys():\n",
    "                genres_count[genre]+=1\n",
    "            else:\n",
    "                genres_count.setdefault(genre,1)\n",
    "sorted(genres_count.items(), key=operator.itemgetter(1), reverse=True)"
   ]
  },
  {
   "cell_type": "markdown",
   "metadata": {
    "colab_type": "text",
    "id": "RqOmPRfWVp_q"
   },
   "source": [
    "# 18. Самый убыточный фильм от Paramount Pictures"
   ]
  },
  {
   "cell_type": "code",
   "execution_count": 55,
   "metadata": {
    "colab": {},
    "colab_type": "code",
    "id": "9E_B0Y96Vp_r"
   },
   "outputs": [],
   "source": [
    "answers['18'] = '1. K-19: The Widowmaker (tt0267626)'"
   ]
  },
  {
   "cell_type": "code",
   "execution_count": 46,
   "metadata": {},
   "outputs": [
    {
     "data": {
      "text/html": [
       "<div>\n",
       "<style scoped>\n",
       "    .dataframe tbody tr th:only-of-type {\n",
       "        vertical-align: middle;\n",
       "    }\n",
       "\n",
       "    .dataframe tbody tr th {\n",
       "        vertical-align: top;\n",
       "    }\n",
       "\n",
       "    .dataframe thead th {\n",
       "        text-align: right;\n",
       "    }\n",
       "</style>\n",
       "<table border=\"1\" class=\"dataframe\">\n",
       "  <thead>\n",
       "    <tr style=\"text-align: right;\">\n",
       "      <th></th>\n",
       "      <th>imdb_id</th>\n",
       "      <th>budget</th>\n",
       "      <th>revenue</th>\n",
       "      <th>original_title</th>\n",
       "      <th>cast</th>\n",
       "      <th>director</th>\n",
       "      <th>tagline</th>\n",
       "      <th>overview</th>\n",
       "      <th>runtime</th>\n",
       "      <th>genres</th>\n",
       "      <th>production_companies</th>\n",
       "      <th>release_date</th>\n",
       "      <th>vote_average</th>\n",
       "      <th>release_year</th>\n",
       "      <th>profit</th>\n",
       "      <th>title_length</th>\n",
       "    </tr>\n",
       "  </thead>\n",
       "  <tbody>\n",
       "    <tr>\n",
       "      <th>925</th>\n",
       "      <td>tt0267626</td>\n",
       "      <td>100000000</td>\n",
       "      <td>35168966</td>\n",
       "      <td>K-19: The Widowmaker</td>\n",
       "      <td>Harrison Ford|Liam Neeson|Peter Sarsgaard|Joss...</td>\n",
       "      <td>Kathryn Bigelow</td>\n",
       "      <td>Fate has found its hero.</td>\n",
       "      <td>When Russia's first nuclear submarine malfunct...</td>\n",
       "      <td>138</td>\n",
       "      <td>Thriller|Drama|History</td>\n",
       "      <td>Paramount Pictures|Intermedia Films|National G...</td>\n",
       "      <td>2002-07-19</td>\n",
       "      <td>6.0</td>\n",
       "      <td>2002</td>\n",
       "      <td>-64831034</td>\n",
       "      <td>20</td>\n",
       "    </tr>\n",
       "  </tbody>\n",
       "</table>\n",
       "</div>"
      ],
      "text/plain": [
       "       imdb_id     budget   revenue        original_title  \\\n",
       "925  tt0267626  100000000  35168966  K-19: The Widowmaker   \n",
       "\n",
       "                                                  cast         director  \\\n",
       "925  Harrison Ford|Liam Neeson|Peter Sarsgaard|Joss...  Kathryn Bigelow   \n",
       "\n",
       "                      tagline  \\\n",
       "925  Fate has found its hero.   \n",
       "\n",
       "                                              overview  runtime  \\\n",
       "925  When Russia's first nuclear submarine malfunct...      138   \n",
       "\n",
       "                     genres  \\\n",
       "925  Thriller|Drama|History   \n",
       "\n",
       "                                  production_companies release_date  \\\n",
       "925  Paramount Pictures|Intermedia Films|National G...   2002-07-19   \n",
       "\n",
       "     vote_average  release_year    profit  title_length  \n",
       "925           6.0          2002 -64831034            20  "
      ]
     },
     "execution_count": 46,
     "metadata": {},
     "output_type": "execute_result"
    }
   ],
   "source": [
    "# Сохраняем в новый датафрейм исходный усеченный до фильмов компании Парамаунт\n",
    "# Из нового выбираем фильмы с минимальным доходом\n",
    "data2 = data[data.production_companies.str.contains('Paramount Pictures')]\n",
    "data2[data2.profit==data2.profit.min()]"
   ]
  },
  {
   "cell_type": "markdown",
   "metadata": {
    "colab_type": "text",
    "id": "vS8Ur6ddVp_u"
   },
   "source": [
    "# 19. Какой год стал самым успешным по суммарным кассовым сборам?"
   ]
  },
  {
   "cell_type": "code",
   "execution_count": 56,
   "metadata": {
    "colab": {},
    "colab_type": "code",
    "id": "Dnbt4GdIVp_v"
   },
   "outputs": [],
   "source": [
    "answers['19'] = '5. 2015'"
   ]
  },
  {
   "cell_type": "code",
   "execution_count": 57,
   "metadata": {},
   "outputs": [
    {
     "data": {
      "text/plain": [
       "release_year\n",
       "2015    25449202382\n",
       "2014    23405862953\n",
       "2013    23213799791\n",
       "2012    23079001687\n",
       "2011    22676791872\n",
       "2010    21071204961\n",
       "2009    20261791024\n",
       "2008    18252781990\n",
       "2007    18162406801\n",
       "2004    15663430720\n",
       "2005    15309425558\n",
       "2006    14775042320\n",
       "2003    14346123312\n",
       "2002    14136361487\n",
       "2001    13017764865\n",
       "2000    10664099805\n",
       "Name: revenue, dtype: int64"
      ]
     },
     "execution_count": 57,
     "metadata": {},
     "output_type": "execute_result"
    }
   ],
   "source": [
    "data.groupby(['release_year']).revenue.sum().sort_values(ascending=False).head(20)"
   ]
  },
  {
   "cell_type": "markdown",
   "metadata": {
    "colab_type": "text",
    "id": "JAzJh4QAVp_z"
   },
   "source": [
    "# 20. Какой самый прибыльный год для студии Warner Bros?"
   ]
  },
  {
   "cell_type": "code",
   "execution_count": 58,
   "metadata": {
    "colab": {},
    "colab_type": "code",
    "id": "wgVu02DEVp_0"
   },
   "outputs": [],
   "source": [
    "answers['20'] = '1. 2014'"
   ]
  },
  {
   "cell_type": "code",
   "execution_count": 59,
   "metadata": {},
   "outputs": [
    {
     "data": {
      "text/plain": [
       "release_year\n",
       "2014    3243064519\n",
       "2007    3183675217\n",
       "2008    3050595031\n",
       "2010    3008712985\n",
       "2011    2845393682\n",
       "2003    2745493377\n",
       "2009    2737954136\n",
       "2004    2731933725\n",
       "2013    2599953400\n",
       "2005    2412980298\n",
       "2001    2266545668\n",
       "2012    1869520056\n",
       "2002    1702709901\n",
       "2015    1691168351\n",
       "2006    1521170743\n",
       "2000    1025531386\n",
       "Name: revenue, dtype: int64"
      ]
     },
     "execution_count": 59,
     "metadata": {},
     "output_type": "execute_result"
    }
   ],
   "source": [
    "# Усекаем датафрейм до фильмов студии Уорнер\n",
    "# Группируем по году выхода применяя суммирование по сборам. Сортируем\n",
    "\n",
    "data2 = data[data.production_companies.str.contains('Warner Bros')]\n",
    "data2.groupby(['release_year']).revenue.sum().sort_values(ascending=False).head(20)"
   ]
  },
  {
   "cell_type": "markdown",
   "metadata": {
    "colab_type": "text",
    "id": "8Im1S2HRVp_4"
   },
   "source": [
    "# 21. В каком месяце за все годы суммарно вышло больше всего фильмов?"
   ]
  },
  {
   "cell_type": "code",
   "execution_count": 61,
   "metadata": {
    "colab": {},
    "colab_type": "code",
    "id": "lev6TH7gVp_4"
   },
   "outputs": [],
   "source": [
    "answers['21'] = '4. Сентябрь'"
   ]
  },
  {
   "cell_type": "code",
   "execution_count": 67,
   "metadata": {},
   "outputs": [
    {
     "data": {
      "text/plain": [
       "09    227\n",
       "12    190\n",
       "10    186\n",
       "08    161\n",
       "03    156\n",
       "04    149\n",
       "06    147\n",
       "11    146\n",
       "07    142\n",
       "05    140\n",
       "02    135\n",
       "01    110\n",
       "Name: release_date, dtype: int64"
      ]
     },
     "execution_count": 67,
     "metadata": {},
     "output_type": "execute_result"
    }
   ],
   "source": [
    "# Заменяем значения столбца Дата релиза на месяц из даты релиза\n",
    "# Подсчитываем количество фильмов по месяцам \n",
    "data.release_date.apply(lambda t: t.strftime('%m')).value_counts()"
   ]
  },
  {
   "cell_type": "markdown",
   "metadata": {},
   "source": [
    "Вариант 2"
   ]
  },
  {
   "cell_type": "code",
   "execution_count": 60,
   "metadata": {},
   "outputs": [
    {
     "data": {
      "text/plain": [
       "[(9, 227),\n",
       " (12, 190),\n",
       " (10, 186),\n",
       " (8, 161),\n",
       " (3, 156),\n",
       " (4, 149),\n",
       " (6, 147),\n",
       " (11, 146),\n",
       " (7, 142),\n",
       " (5, 140),\n",
       " (2, 135),\n",
       " (1, 110)]"
      ]
     },
     "execution_count": 60,
     "metadata": {},
     "output_type": "execute_result"
    }
   ],
   "source": [
    "movie_counter={}\n",
    "\n",
    "for i in data.index:\n",
    "    if data.release_date[i].month in movie_counter.keys():\n",
    "        movie_counter[data.release_date[i].month]+=1\n",
    "    else:\n",
    "        movie_counter.setdefault(data.release_date[i].month,1)\n",
    "\n",
    "sorted(movie_counter.items(), key=operator.itemgetter(1), reverse=True)"
   ]
  },
  {
   "cell_type": "markdown",
   "metadata": {
    "colab_type": "text",
    "id": "uAJsZ_NeVp_7"
   },
   "source": [
    "# 22. Сколько суммарно вышло фильмов летом? (за июнь, июль, август)"
   ]
  },
  {
   "cell_type": "code",
   "execution_count": 62,
   "metadata": {
    "colab": {},
    "colab_type": "code",
    "id": "Aa-hEREoVp_8"
   },
   "outputs": [],
   "source": [
    "answers['22'] = '2. 450'"
   ]
  },
  {
   "cell_type": "code",
   "execution_count": 73,
   "metadata": {},
   "outputs": [
    {
     "data": {
      "text/plain": [
       "450"
      ]
     },
     "execution_count": 73,
     "metadata": {},
     "output_type": "execute_result"
    }
   ],
   "source": [
    "# Усекаем исходный датафрейм до фильмов летних месяцев. \n",
    "# Дата релиза в предобработке приведена к формату datetime\n",
    "# Подсчитываем количество фильмов \n",
    "data[data.release_date.dt.month.isin([6,7,8])].imdb_id.count()"
   ]
  },
  {
   "cell_type": "markdown",
   "metadata": {},
   "source": [
    "Вариант 2"
   ]
  },
  {
   "cell_type": "code",
   "execution_count": 63,
   "metadata": {},
   "outputs": [
    {
     "name": "stdout",
     "output_type": "stream",
     "text": [
      "Количество летних фильмов 450\n"
     ]
    }
   ],
   "source": [
    "movie_counter={}\n",
    "\n",
    "for i in data.index:\n",
    "    if data.release_date[i].month in movie_counter.keys():\n",
    "        movie_counter[data.release_date[i].month]+=1\n",
    "    else:\n",
    "        movie_counter.setdefault(data.release_date[i].month,1)\n",
    "\n",
    "print ('Количество летних фильмов', movie_counter[6] + movie_counter[7] + movie_counter[8] ) "
   ]
  },
  {
   "cell_type": "markdown",
   "metadata": {
    "colab_type": "text",
    "id": "G94ppOY1VqAA"
   },
   "source": [
    "# 23. Для какого режиссера зима – самое продуктивное время года? "
   ]
  },
  {
   "cell_type": "code",
   "execution_count": 65,
   "metadata": {},
   "outputs": [],
   "source": [
    "answers['23'] = '5. Peter Jackson'"
   ]
  },
  {
   "cell_type": "code",
   "execution_count": 72,
   "metadata": {},
   "outputs": [
    {
     "data": {
      "text/plain": [
       "Peter Jackson                       7\n",
       "Steven Soderbergh                   6\n",
       "Clint Eastwood                      6\n",
       "Shawn Levy                          4\n",
       "Adam Shankman                       4\n",
       "                                   ..\n",
       "Andy Muschietti                     1\n",
       "Chris Weitz                         1\n",
       "Florian Henckel von Donnersmarck    1\n",
       "Joel Gallen                         1\n",
       "Dean Israelite                      1\n",
       "Name: director, Length: 358, dtype: int64"
      ]
     },
     "execution_count": 72,
     "metadata": {},
     "output_type": "execute_result"
    }
   ],
   "source": [
    "# Усекаем исходный датафрейм до фильмов зимних месяцев. \n",
    "# Дата релиза в предобработке приведена к формату datetime\n",
    "# Делим режиссеров, взрываем и подсчитываем\n",
    "data[data.release_date.dt.month.isin([1, 2, 12,])].director.str.split('|').explode().value_counts()"
   ]
  },
  {
   "cell_type": "code",
   "execution_count": 64,
   "metadata": {
    "colab": {},
    "colab_type": "code",
    "id": "RhNTsamuVqAB"
   },
   "outputs": [
    {
     "data": {
      "text/plain": [
       "[('Peter Jackson', 7),\n",
       " ('Clint Eastwood', 6),\n",
       " ('Steven Soderbergh', 6),\n",
       " ('Shawn Levy', 4),\n",
       " ('Nancy Meyers', 4),\n",
       " ('Martin Scorsese', 4),\n",
       " ('Adam Shankman', 4),\n",
       " ('Ridley Scott', 3),\n",
       " ('Rob Marshall', 3),\n",
       " ('Tim Burton', 3),\n",
       " ('Steve Carr', 3),\n",
       " ('Patrick Lussier', 3),\n",
       " ('Donald Petrie', 3),\n",
       " ('Marc Lawrence', 3),\n",
       " ('Lasse HallstrÃ¶m', 3),\n",
       " ('Edward Zwick', 3),\n",
       " ('Jason Friedberg', 3),\n",
       " ('Aaron Seltzer', 3),\n",
       " ('Peter Farrelly', 3),\n",
       " ('Steven Spielberg', 3),\n",
       " ('Wayne Wang', 3),\n",
       " ('Quentin Tarantino', 2),\n",
       " ('Adam McKay', 2),\n",
       " ('Michael Mann', 2),\n",
       " ('Glenn Ficarra', 2),\n",
       " ('John Requa', 2),\n",
       " ('Pierre Morel', 2),\n",
       " ('Wes Anderson', 2),\n",
       " ('Paul Thomas Anderson', 2),\n",
       " ('Jaume Collet-Serra', 2),\n",
       " ('George Clooney', 2),\n",
       " ('Shana Feste', 2),\n",
       " ('Ken Kwapis', 2),\n",
       " ('Henry Selick', 2),\n",
       " ('P.J. Hogan', 2),\n",
       " ('David S. Goyer', 2),\n",
       " ('Paul McGuigan', 2),\n",
       " ('Marcus Nispel', 2),\n",
       " ('Andrzej Bartkowiak', 2),\n",
       " ('Scott Cooper', 2),\n",
       " ('Allen Hughes', 2),\n",
       " ('Garry Marshall', 2),\n",
       " ('David O. Russell', 2),\n",
       " ('James L. Brooks', 2),\n",
       " ('Brian Levant', 2),\n",
       " ('Martin Campbell', 2),\n",
       " ('Ron Howard', 2),\n",
       " ('Cameron Crowe', 2),\n",
       " ('Dennis Dugan', 2),\n",
       " ('Mark Waters', 2),\n",
       " ('Thomas Carter', 2),\n",
       " ('Bryan Singer', 2),\n",
       " ('Sylvester Stallone', 2),\n",
       " ('Jon M. Chu', 2),\n",
       " ('Gabriele Muccino', 2),\n",
       " ('Andy Tennant', 2),\n",
       " ('David Wain', 2),\n",
       " ('Brad Anderson', 2),\n",
       " ('Gregory Hoblit', 2),\n",
       " ('Simon West', 2),\n",
       " ('Bobby Farrelly', 2),\n",
       " ('Jason Reitman', 2),\n",
       " ('Joe Carnahan', 2),\n",
       " ('Stephen Daldry', 2),\n",
       " ('John Whitesell', 2),\n",
       " ('Spike Jonze', 2),\n",
       " ('Denzel Washington', 2),\n",
       " ('Mark Steven Johnson', 2),\n",
       " ('John Moore', 2),\n",
       " ('Walter Hill', 2),\n",
       " ('Brett Ratner', 2),\n",
       " ('Peter Segal', 2),\n",
       " ('Francis Lawrence', 2),\n",
       " ('Rob Reiner', 2),\n",
       " ('Wes Craven', 2),\n",
       " ('Mel Gibson', 2),\n",
       " ('Mike Nichols', 2),\n",
       " ('Joel Schumacher', 2),\n",
       " ('J.J. Abrams', 1),\n",
       " ('Alejandro GonzÃ¡lez IÃ±Ã¡rritu', 1),\n",
       " ('Lana Wachowski', 1),\n",
       " ('Lilly Wachowski', 1),\n",
       " ('Alex Garland', 1),\n",
       " ('Olivier Megaton', 1),\n",
       " ('Sam Taylor-Johnson', 1),\n",
       " ('Matthew Vaughn', 1),\n",
       " ('Ericson Core', 1),\n",
       " ('David Koepp', 1),\n",
       " ('Sean Anders', 1),\n",
       " ('Ari Sandel', 1),\n",
       " ('Jeremy Garelick', 1),\n",
       " ('Jason Moore', 1),\n",
       " ('Dean Israelite', 1),\n",
       " ('Paul Tibbitt', 1),\n",
       " ('Mike Binder', 1),\n",
       " ('Evan Goldberg', 1),\n",
       " ('Seth Rogen', 1),\n",
       " ('Phil Lord', 1),\n",
       " ('Christopher Miller', 1),\n",
       " ('Sergey Bodrov', 1),\n",
       " ('J.C. Chandor', 1),\n",
       " ('Tim Story', 1),\n",
       " ('Kenneth Branagh', 1),\n",
       " ('JosÃ© Padilha', 1),\n",
       " ('Rob Minkoff', 1),\n",
       " ('Angelina Jolie', 1),\n",
       " ('Ava DuVernay', 1),\n",
       " ('Paul W.S. Anderson', 1),\n",
       " ('Will Gluck', 1),\n",
       " ('Stuart Beattie', 1),\n",
       " ('Tom Gormican', 1),\n",
       " ('Akiva Goldsman', 1),\n",
       " ('Russell Crowe', 1),\n",
       " ('Steve Pink', 1),\n",
       " ('Christopher Spencer', 1),\n",
       " ('GrÃ©gory Levasseur', 1),\n",
       " ('Renny Harlin', 1),\n",
       " ('Rupert Wyatt', 1),\n",
       " ('Matt Bettinelli-Olpin', 1),\n",
       " ('Tyler Gillett', 1),\n",
       " ('James Cameron', 1),\n",
       " ('Patrick Tatopoulos', 1),\n",
       " ('Guy Ritchie', 1),\n",
       " ('Ron Clements', 1),\n",
       " ('John Musker', 1),\n",
       " ('Jim Sheridan', 1),\n",
       " ('Betty Thomas', 1),\n",
       " ('Gary Winick', 1),\n",
       " ('Michael Spierig', 1),\n",
       " ('Peter Spierig', 1),\n",
       " ('Antoine Fuqua', 1),\n",
       " ('Rajkumar Hirani', 1),\n",
       " ('NimrÃ³d Antal', 1),\n",
       " ('Tom Tykwer', 1),\n",
       " ('Thor Freudenthal', 1),\n",
       " ('Jonas Elmer', 1),\n",
       " ('Darren Aronofsky', 1),\n",
       " ('Joseph Kosinski', 1),\n",
       " ('Florian Henckel von Donnersmarck', 1),\n",
       " ('Ethan Coen', 1),\n",
       " ('Joel Coen', 1),\n",
       " ('Paul Weitz', 1),\n",
       " ('Chris Columbus', 1),\n",
       " ('Albert Hughes', 1),\n",
       " ('Anand Tucker', 1),\n",
       " ('Rob Letterman', 1),\n",
       " ('Roman Polanski', 1),\n",
       " ('Scott Stewart', 1),\n",
       " ('Kevin Smith', 1),\n",
       " ('Neil Marshall', 1),\n",
       " ('Roger Michell', 1),\n",
       " ('Michael Lembeck', 1),\n",
       " ('Breck Eisner', 1),\n",
       " ('Eric Brevig', 1),\n",
       " ('Tom Vaughan', 1),\n",
       " ('John Erick Dowdle', 1),\n",
       " ('Joel Gallen', 1),\n",
       " ('John A. Davis', 1),\n",
       " ('Peter Howitt', 1),\n",
       " ('Jessie Nelson', 1),\n",
       " ('John Boorman', 1),\n",
       " (\"Pat O'Connor\", 1),\n",
       " ('Jesse Dylan', 1),\n",
       " ('Frank Darabont', 1),\n",
       " ('Demian Lichtenstein', 1),\n",
       " ('Francine McDougall', 1),\n",
       " ('Doug Liman', 1),\n",
       " ('Roland Emmerich', 1),\n",
       " ('Scott Derrickson', 1),\n",
       " ('Matt Reeves', 1),\n",
       " ('Peyton Reed', 1),\n",
       " ('David Frankel', 1),\n",
       " ('Anne Fletcher', 1),\n",
       " ('Iain Softley', 1),\n",
       " ('Lexi Alexander', 1),\n",
       " ('Pete Travis', 1),\n",
       " ('Martin McDonagh', 1),\n",
       " ('David Moreau', 1),\n",
       " ('Xavier Palud', 1),\n",
       " ('Frank Miller', 1),\n",
       " ('Sam Mendes', 1),\n",
       " ('Malcolm D. Lee', 1),\n",
       " ('Nicolas Winding Refn', 1),\n",
       " ('Brad Bird', 1),\n",
       " ('David Fincher', 1),\n",
       " ('Ivan Reitman', 1),\n",
       " ('D.J. Caruso', 1),\n",
       " ('Mark Neveldine', 1),\n",
       " ('Brian Taylor', 1),\n",
       " ('Mikael HÃ¥fstrÃ¶m', 1),\n",
       " ('Greg Mottola', 1),\n",
       " ('Dominic Sena', 1),\n",
       " ('Chris Gorak', 1),\n",
       " ('Christian E. Christiansen', 1),\n",
       " ('Michel Gondry', 1),\n",
       " ('Daniel Barnz', 1),\n",
       " ('Mike Mitchell', 1),\n",
       " ('Kelly Asbury', 1),\n",
       " ('Kevin Macdonald', 1),\n",
       " ('David Gordon Green', 1),\n",
       " ('Alister Grierson', 1),\n",
       " ('Benny Chan', 1),\n",
       " ('Phyllida Lloyd', 1),\n",
       " ('Lee Tamahori', 1),\n",
       " ('Rodrigo GarcÃ\\xada', 1),\n",
       " ('Joel Zwick', 1),\n",
       " ('Andrew Davis', 1),\n",
       " ('Stuart Baird', 1),\n",
       " ('Kurt Wimmer', 1),\n",
       " ('Miguel Arteta', 1),\n",
       " ('Jim Gillespie', 1),\n",
       " ('Ron Shelton', 1),\n",
       " ('Nick Cassavetes', 1),\n",
       " ('Michael Rymer', 1),\n",
       " ('Robin Budd', 1),\n",
       " ('Donovan Cook', 1),\n",
       " ('Dewey Nicks', 1),\n",
       " ('Alexander Payne', 1),\n",
       " ('Mark Pellington', 1),\n",
       " ('Tamra Davis', 1),\n",
       " ('Tom Shadyac', 1),\n",
       " ('Charles Stone III', 1),\n",
       " ('MÃ¥ns MÃ¥rlind', 1),\n",
       " ('BjÃ¶rn Stein', 1),\n",
       " ('Christopher McQuarrie', 1),\n",
       " ('Michael Sucsy', 1),\n",
       " ('Brad Peyton', 1),\n",
       " ('Tom Hooper', 1),\n",
       " ('Kathryn Bigelow', 1),\n",
       " ('Josh Trank', 1),\n",
       " ('Mike McCoy', 1),\n",
       " ('Scott Waugh', 1),\n",
       " ('Baltasar KormÃ¡kur', 1),\n",
       " ('Judd Apatow', 1),\n",
       " ('James Watkins', 1),\n",
       " ('Daniel Espinosa', 1),\n",
       " ('Asger Leth', 1),\n",
       " ('Julie Anne Robinson', 1),\n",
       " ('Anthony Hemingway', 1),\n",
       " ('Andy Fickman', 1),\n",
       " ('Steve Trenbirth', 1),\n",
       " ('Todd Phillips', 1),\n",
       " ('David Dobkin', 1),\n",
       " ('John Woo', 1),\n",
       " ('David R. Ellis', 1),\n",
       " ('Anthony Minghella', 1),\n",
       " ('Ronald F. Maxwell', 1),\n",
       " ('Alan Parker', 1),\n",
       " ('Chris Koch', 1),\n",
       " ('Ben Stiller', 1),\n",
       " ('Jonathan Levine', 1),\n",
       " ('Tommy Wirkola', 1),\n",
       " ('Carl Rinsch', 1),\n",
       " ('Peter Berg', 1),\n",
       " ('Harmony Korine', 1),\n",
       " ('Taylor Hackford', 1),\n",
       " ('Ruben Fleischer', 1),\n",
       " ('Seth Gordon', 1),\n",
       " ('John Luessenhop', 1),\n",
       " ('Andy Muschietti', 1),\n",
       " ('Steven Brill', 1),\n",
       " ('Elizabeth Banks', 1),\n",
       " ('Rusty Cundieff', 1),\n",
       " ('James Duffy', 1),\n",
       " ('Griffin Dunne', 1),\n",
       " ('Patrik Forsberg', 1),\n",
       " ('James Gunn', 1),\n",
       " ('Will Graham', 1),\n",
       " ('Jonathan van Tulleken', 1),\n",
       " ('Callan Brunker', 1),\n",
       " ('Giuseppe Tornatore', 1),\n",
       " ('Jonathan Teplitzky', 1),\n",
       " ('Neil Nightingale', 1),\n",
       " ('Barry Cook', 1),\n",
       " ('Ric Roman Waugh', 1),\n",
       " ('John Wells', 1),\n",
       " ('Christopher B. Landon', 1),\n",
       " ('Ed Gass-Donnelly', 1),\n",
       " ('Justin Chadwick', 1),\n",
       " ('Andrew Adamson', 1),\n",
       " ('James McTeigue', 1),\n",
       " ('Garth Jennings', 1),\n",
       " ('Rob Bowman', 1),\n",
       " ('Cory Edwards', 1),\n",
       " ('Todd Edwards', 1),\n",
       " ('Tony Leech', 1),\n",
       " ('John Polson', 1),\n",
       " ('Frederik Du Chau', 1),\n",
       " ('Dean Parisot', 1),\n",
       " ('Louis Leterrier', 1),\n",
       " ('Jean-FranÃ§ois Richet', 1),\n",
       " ('Clare Kilner', 1),\n",
       " ('Geoffrey Sax', 1),\n",
       " ('Uwe Boll', 1),\n",
       " ('Stephen Kay', 1),\n",
       " ('Niki Caro', 1),\n",
       " ('Len Wiseman', 1),\n",
       " ('Frank Marshall', 1),\n",
       " ('James Wong', 1),\n",
       " ('Stefen Fangmeier', 1),\n",
       " ('Robert De Niro', 1),\n",
       " (\"Matthew O'Callaghan\", 1),\n",
       " ('McG', 1),\n",
       " ('Joe Roth', 1),\n",
       " ('Nick Hurran', 1),\n",
       " ('Bill Condon', 1),\n",
       " ('Chris Noonan', 1),\n",
       " ('Craig Brewer', 1),\n",
       " ('Richard Eyre', 1),\n",
       " ('Wayne Kramer', 1),\n",
       " ('Richard Loncraine', 1),\n",
       " ('Glen Morgan', 1),\n",
       " ('Justin Lin', 1),\n",
       " ('Eric Bress', 1),\n",
       " ('J. Mackye Gruber', 1),\n",
       " ('Jay Roach', 1),\n",
       " ('Brad Silberling', 1),\n",
       " ('Jeff Schaffer', 1),\n",
       " ('John Hamburg', 1),\n",
       " ('Philip Kaufman', 1),\n",
       " ('Sara Sugarman', 1),\n",
       " ('Guy Ferland', 1),\n",
       " ('Kevin Rodney Sullivan', 1),\n",
       " ('Joseph Kahn', 1),\n",
       " (\"Gavin O'Connor\", 1),\n",
       " ('Jay Chandrasekhar', 1),\n",
       " ('George Armitage', 1),\n",
       " ('Kevin Allen', 1),\n",
       " ('Jon Turteltaub', 1),\n",
       " ('GÃ¡bor CsupÃ³', 1),\n",
       " ('Tim Hill', 1),\n",
       " ('Chris Weitz', 1),\n",
       " ('Jon Avnet', 1),\n",
       " ('Mennan Yapo', 1),\n",
       " ('Dave Meyers', 1),\n",
       " ('Michael Winterbottom', 1),\n",
       " ('Brian Robbins', 1),\n",
       " ('Richard LaGravenese', 1),\n",
       " ('Jay Russell', 1),\n",
       " ('Jake Kasdan', 1),\n",
       " ('David Leland', 1),\n",
       " ('Peter Webber', 1),\n",
       " ('Tyler Perry', 1),\n",
       " ('Ben Garant', 1),\n",
       " ('Robert Zemeckis', 1),\n",
       " ('Mark Dindal', 1),\n",
       " ('David Twohy', 1),\n",
       " ('Ben Younger', 1),\n",
       " ('Sam Raimi', 1),\n",
       " ('Danny Leiner', 1),\n",
       " ('Jonathan Lynn', 1),\n",
       " ('Roger Donaldson', 1),\n",
       " ('Danny Boyle', 1),\n",
       " ('John Frankenheimer', 1),\n",
       " ('Gus Van Sant', 1),\n",
       " ('Jack Sholder', 1),\n",
       " ('Courtney Solomon', 1),\n",
       " ('Diane Keaton', 1)]"
      ]
     },
     "execution_count": 64,
     "metadata": {},
     "output_type": "execute_result"
    }
   ],
   "source": [
    "director_counter = {}\n",
    "for i in data.index:\n",
    "    if data.release_date[i].month in (1,2,12):\n",
    "        d = data.director[i].split('|')\n",
    "        for director in d:\n",
    "            if director in director_counter.keys():\n",
    "                director_counter[director]+=1\n",
    "            else:\n",
    "                director_counter.setdefault(director,1)\n",
    "\n",
    "sorted(director_counter.items(), key=operator.itemgetter(1), reverse=True)"
   ]
  },
  {
   "cell_type": "markdown",
   "metadata": {
    "colab_type": "text",
    "id": "RBo0JVjVVqAF"
   },
   "source": [
    "# 24. Какая студия дает самые длинные названия своим фильмам по количеству символов?"
   ]
  },
  {
   "cell_type": "code",
   "execution_count": 7,
   "metadata": {
    "colab": {},
    "colab_type": "code",
    "id": "QRGS8L0iVqAG"
   },
   "outputs": [],
   "source": [
    "answers['24'] = '5. Four By Two Productions'"
   ]
  },
  {
   "cell_type": "code",
   "execution_count": 51,
   "metadata": {},
   "outputs": [
    {
     "data": {
      "text/plain": [
       "production_companies\n",
       "Four By Two Productions       83.0\n",
       "Jim Henson Company, The       59.0\n",
       "Dos Corazones                 47.0\n",
       "Museum Canada Productions     46.0\n",
       "Polsky Films                  46.0\n",
       "                              ... \n",
       "Everest Entertainment          3.0\n",
       "Berlanti Productions           3.0\n",
       "XM2 Productions                2.0\n",
       "Ixtlan Productions             2.0\n",
       "Global Entertainment Group     2.0\n",
       "Name: title_length, Length: 1771, dtype: float64"
      ]
     },
     "execution_count": 51,
     "metadata": {},
     "output_type": "execute_result"
    }
   ],
   "source": [
    "# Делаем копию исходного датафрейма\n",
    "# В предобработке добавляем столбец с длинной названия фильма\n",
    "# Сохраняем в колонке Студий разбитые в список значения с отдельными студиями\n",
    "# Взрываем по Студиям, группируем по Студиям вычисляя среднее по длине названия. Сортируем\n",
    "data2 = data.copy()\n",
    "data2.production_companies = data2.production_companies.str.split('|')\n",
    "data2.explode('production_companies').groupby(['production_companies']).title_length.mean().sort_values(ascending =False)"
   ]
  },
  {
   "cell_type": "markdown",
   "metadata": {
    "colab_type": "text",
    "id": "9G0hbvR7VqAK"
   },
   "source": [
    "# 25. Описание фильмов какой студии в среднем самые длинные по количеству слов?"
   ]
  },
  {
   "cell_type": "code",
   "execution_count": 5,
   "metadata": {},
   "outputs": [],
   "source": [
    "answers['25'] = '3. Midnight Picture Show'"
   ]
  },
  {
   "cell_type": "code",
   "execution_count": 4,
   "metadata": {
    "colab": {},
    "colab_type": "code",
    "id": "Ge2GsLNxVqAK"
   },
   "outputs": [
    {
     "data": {
      "text/plain": [
       "production_companies\n",
       "Midnight Picture Show                    175.0\n",
       "Room 9 Entertainment                     161.0\n",
       "Heineken Branded Entertainment           161.0\n",
       "98 MPH Productions                       159.0\n",
       "Brookwell-McNamara Entertainment         156.0\n",
       "                                         ...  \n",
       "London Boulevard                          13.0\n",
       "Phantom Four                              13.0\n",
       "Henceforth                                13.0\n",
       "Empire Pictures                           11.0\n",
       "Motion Picture Corporation of America     11.0\n",
       "Name: overview, Length: 1771, dtype: float64"
      ]
     },
     "execution_count": 4,
     "metadata": {},
     "output_type": "execute_result"
    }
   ],
   "source": [
    "# Делаем копию исходного датафрейма\n",
    "# Заменяем значения в колонке Описание на количество слов в описании\n",
    "# Заменяем значения в колонке Студия на список разбитых студий\n",
    "# Взрываем по Студиям, группируем по Студиям вычисляя среднее по Описанию в котором уже количество слов в описании. \n",
    "# Сортируем\n",
    "\n",
    "data2 = data.copy()\n",
    "data2.overview = data2.overview.apply(lambda s: len(s.split(' ')))\n",
    "data2.production_companies = data2.production_companies.str.split('|')\n",
    "data2.explode('production_companies').groupby(['production_companies']).overview.mean().sort_values(ascending =False)"
   ]
  },
  {
   "cell_type": "markdown",
   "metadata": {
    "colab_type": "text",
    "id": "FJ1AFt90VqAP"
   },
   "source": [
    "# 26. Какие фильмы входят в 1 процент лучших по рейтингу? \n",
    "по vote_average"
   ]
  },
  {
   "cell_type": "code",
   "execution_count": 9,
   "metadata": {
    "colab": {},
    "colab_type": "code",
    "id": "8qmJVq4CVqAQ"
   },
   "outputs": [],
   "source": [
    "answers['26'] = '1. Inside Out, The Dark Knight, 12 Years a Slave'"
   ]
  },
  {
   "cell_type": "code",
   "execution_count": 8,
   "metadata": {},
   "outputs": [
    {
     "data": {
      "text/plain": [
       "[True, False, False, False, False]"
      ]
     },
     "execution_count": 8,
     "metadata": {},
     "output_type": "execute_result"
    }
   ],
   "source": [
    "# Поскольку речь идет об 1% лучших по оценкам, то сортируем исходный дата фрейм по оценкам и выбираем первые 18 фильмов\n",
    "# 18 ~ 1% от общего количества всех фильмов в датасете\n",
    "# Сохраняем в отдельный список movie_set названия этих 18 фильмов\n",
    "# Формируем все возможные перестановки по три (t3) и по два фильма (t2) из всего списка movie_set\n",
    "# Прогоняем все варианты ответов из викторины через наши выборки t3 и t2 \n",
    "# Для решения были выбраны именно перестановки потому как неизвестно в каком порядке предоставлены \n",
    "# варианты ответов относительно списка top 18 (1%). \n",
    "result=[]\n",
    "data2 = data.copy()\n",
    "data2 = data.sort_values(['vote_average'],ascending =False).head(18)\n",
    "movie_set = data2.original_title\n",
    "t3 = list(x for x in permutations(movie_set, 3))\n",
    "t2 = list(x for x in permutations(movie_set, 2))\n",
    "result.append(('Inside Out', 'The Dark Knight', '12 Years a Slave') in t3)\n",
    "result.append(('300','Lucky Number Slevin','Kill Bill: Vol. 1') in t3)\n",
    "result.append(('Upside Down','Inside Out','Iron Man') in t3)\n",
    "result.append(('Batman Begins','The Lord of the Rings: The Return of the King','Upside Down') in t3)\n",
    "result.append(('BloodRayne','The Adventures of Rocky & Bullwinkle') in t2)\n",
    "result"
   ]
  },
  {
   "cell_type": "markdown",
   "metadata": {
    "colab_type": "text",
    "id": "MdXsUXbCVqAV"
   },
   "source": [
    "# 27. Какие актеры чаще всего снимаются в одном фильме вместе?\n"
   ]
  },
  {
   "cell_type": "code",
   "execution_count": 13,
   "metadata": {},
   "outputs": [],
   "source": [
    "answers['27'] = '5. Daniel Radcliffe & Rupert Grint'"
   ]
  },
  {
   "cell_type": "code",
   "execution_count": 18,
   "metadata": {},
   "outputs": [
    {
     "data": {
      "text/plain": [
       "(Daniel Radcliffe, Rupert Grint)       8\n",
       "(Daniel Radcliffe, Emma Watson)        8\n",
       "(Emma Watson, Rupert Grint)            8\n",
       "(Rupert Grint, Daniel Radcliffe)       8\n",
       "(Emma Watson, Daniel Radcliffe)        8\n",
       "(Rupert Grint, Emma Watson)            8\n",
       "(Ben Stiller, Owen Wilson)             6\n",
       "(Helena Bonham Carter, Johnny Depp)    6\n",
       "(Owen Wilson, Ben Stiller)             6\n",
       "(Johnny Depp, Helena Bonham Carter)    6\n",
       "(Vin Diesel, Paul Walker)              5\n",
       "(Kristen Stewart, Robert Pattinson)    5\n",
       "(Adam Sandler, Kevin James)            5\n",
       "(Robert Pattinson, Taylor Lautner)     5\n",
       "(Hugh Jackman, Ian McKellen)           5\n",
       "(Taylor Lautner, Kristen Stewart)      5\n",
       "(Ian McKellen, Hugh Jackman)           5\n",
       "(Robert Pattinson, Kristen Stewart)    5\n",
       "(Kristen Stewart, Taylor Lautner)      5\n",
       "(Kevin James, Adam Sandler)            5\n",
       "Name: cast, dtype: int64"
      ]
     },
     "execution_count": 18,
     "metadata": {},
     "output_type": "execute_result"
    }
   ],
   "source": [
    "# Для каждого фильма в колонку Cast помещаем список из всех возможных пар актеров этого фильма  \n",
    "# Взрываем по парам и подсчитываем количества входждений разных пар. \n",
    "# Здесь тоже используем именно перестановки потому как в разных фильмах порядок написания пар может бытьразным\n",
    "# В ответе пары дублируются (а.б) и (б.а)\n",
    "data2 = data.copy()\n",
    "data2.cast = data.cast.str.split('|').apply(lambda s: list(x for x in permutations(s, 2)))\n",
    "data2.explode('cast').cast.value_counts().head(20)"
   ]
  },
  {
   "cell_type": "markdown",
   "metadata": {
    "colab_type": "text",
    "id": "U0nONFnGVqAX"
   },
   "source": [
    "# Submission"
   ]
  },
  {
   "cell_type": "code",
   "execution_count": 54,
   "metadata": {
    "colab": {},
    "colab_type": "code",
    "id": "IfcaRO9-VqAX",
    "outputId": "0f132912-32bb-4196-c98c-abfbc4ad5a5f"
   },
   "outputs": [
    {
     "data": {
      "text/plain": [
       "{}"
      ]
     },
     "execution_count": 54,
     "metadata": {},
     "output_type": "execute_result"
    }
   ],
   "source": [
    "# в конце можно посмотреть свои ответы к каждому вопросу\n",
    "answers"
   ]
  },
  {
   "cell_type": "code",
   "execution_count": 0,
   "metadata": {
    "colab": {},
    "colab_type": "code",
    "id": "SiRmHPl8VqAd"
   },
   "outputs": [],
   "source": [
    "# и убедиться что ни чего не пропустил)\n",
    "len(answers)"
   ]
  },
  {
   "cell_type": "code",
   "execution_count": 0,
   "metadata": {
    "colab": {},
    "colab_type": "code",
    "id": "Vwx3NrkSVqAl"
   },
   "outputs": [],
   "source": []
  }
 ],
 "metadata": {
  "colab": {
   "name": "Copy of [SF-DST] Movies IMBD v4.1 TEMPLATE.ipynb",
   "provenance": []
  },
  "kernelspec": {
   "display_name": "Python 3",
   "language": "python",
   "name": "python3"
  },
  "language_info": {
   "codemirror_mode": {
    "name": "ipython",
    "version": 3
   },
   "file_extension": ".py",
   "mimetype": "text/x-python",
   "name": "python",
   "nbconvert_exporter": "python",
   "pygments_lexer": "ipython3",
   "version": "3.8.3"
  }
 },
 "nbformat": 4,
 "nbformat_minor": 1
}
